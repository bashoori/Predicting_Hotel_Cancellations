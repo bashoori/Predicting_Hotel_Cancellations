{
 "cells": [
  {
   "cell_type": "markdown",
   "metadata": {},
   "source": [
    "# Data Story "
   ]
  },
  {
   "cell_type": "markdown",
   "metadata": {},
   "source": [
    "Link to Data: https://raw.githubusercontent.com/rfordatascience/tidytuesday/master/data/2020/2020-02-11/hotels.csv"
   ]
  },
  {
   "cell_type": "markdown",
   "metadata": {},
   "source": [
    "## Project Proposal\n",
    "\n",
    "My project will seek to solve a common but surging issue for the hotel industry, predicting cancellations and maintaining brand integrity among surging customer interest in booking through online travel agents, rather than direct. According to a study conducted by D-Edge Hospitality Solutions, cancellation rates in the hotel industry increased more than 8 percent from 2014 to 2017^[Hertzfeld, Esther. Study: Cancellation Rate at 40% as OTAs Push Free Change Policy. Hotel Management, 23 Apr. 2019, www.hotelmanagement.net/tech/study-cancelation-rate-at-40-as-otas-push-free-change-policy.\n",
    "]\n",
    "\n",
    "The impact on the industry has come from pressure primarily stemming from online travel agencies and their adoption of ‘Risk Free Reservations’. While OTA’s use cancellations as a way to expand their market availability and retain customer loyalty, hotels risk the ability to forecast revenue and maintain brand integrity in the process^[Funnell, Rob. “The Real Cost of 'Free' Cancellations for Hotels.” Triptease, Triptease - Attract. Convert. Compete., 13 May 2019,\n",
    "www.triptease.com/blog/the-real-cost-of-free-cancellations/?utm_source=MediaPartner&utm_medium=HotelSpeak.\n",
    "]\n",
    "\n",
    "Hotels often desire to create a personalized ease of  service for customers from the moment of booking, but OTA’s want their customers to adopt a ‘book now, ask questions later’ mentality. The preference for customers often falls towards the OTA’s, because they will often advertise a lower price than booking direct, as they absorb the cancellation risk, which creates a strain on the hotels’ customer relationship and diminishes the booking experience. While OTA’s do draw in customers and expand outreach for hotels, there is an opportunity to optimize customer channels and lower risk, while increasing real-time income.\n",
    "\n",
    "The outcome of this project will give the client insights into predicting cancellations and provide suggestions for modifying their cancellation policy. This will provide the hotel with the ability to optimize customer channels, maintain brand integrity and increase customer loyalty.\n",
    "\n",
    "The dataset was obtained from [tidy tuesday](https://raw.githubusercontent.com/rfordatascience/tidytuesday/master/data/2020/2020-02-11/hotels.csv) but originated from [Science Direct](https://www.sciencedirect.com) and contains a collection of observations taken from 2015 to 2017 of guest bookings for two hotels, both located in Portugal. The data was collected directly from the hotels’ PMS (property management system) database and was relatively clean and structured upon retrieval. Each observation represents a booking, with the variables capturing details including when it was booked, dates of stay, through which operator the guest chose to go through, if that booking was cancelled and the average daily rate. Once this project is complete, I will be able to provide insights on the following questions: \n",
    "\n",
    "\n",
    "> Can we predict if a guest will cancel a reservation at the moment of booking? What inferences can we draw from cancellation patterns that would help optimize customer channels and lower the overall risk for a hotel?\n",
    "\n",
    "I will attempt to solve this problem by investigating where cancellations primarily occur and during what time of the year. After drawing insights from the exploratory data analysis phase, the dataset will be modified for the modeling process with the goal of predicting the cancelation column of the set. Insights from the model and from the exploratory phase will lead to suggestions to the client that will help them forecast cancellations and optimize customer channels as mentioned above. \n",
    "\n",
    "The client will receive the working model in the form of a web application as well as a summary paper and slide deck. The slide deck will summarize the findings and attempt to “sell” the work to the client, and the paper will summarize the details. Code will be provided for inspection and reproducibility for the client. "
   ]
  },
  {
   "cell_type": "markdown",
   "metadata": {},
   "source": [
    "## Data Wrangling and Cleaning steps"
   ]
  },
  {
   "cell_type": "markdown",
   "metadata": {},
   "source": [
    "The data I obtained was relatively clean to begin with, however there were a few instances of “NULL” and empty entries as well as mislabeled entries that needed clarification. The convention for null data was a string with 7 spaces before NULL (\"NULL\"), so this was found and replaced with `numpy`’s NAN entry for ease of identification. At this point it was a matter of understanding the data to replace NAN values with appropriate labels for the variable. \n",
    "\n",
    "The variables with NAN entries were the company, agent and country columns. Upon more exploration of the data and its source website, it was discovered that for company and agent, null entries correlated to customers that did not go through a company or agent to book. To correct this, the original company and agent names were replaced with string numerics to protect anonymity so to continue with this convention, nan entries were replaced with “0” to represent “no agent” or “no company”. The country column had no added clarification for the nan entries, so it was decided that “UNK” for unknown would be used instead. \n",
    "The last step for cleaning was to create a datetime column for a guest's date of arrival. The data provided the day, month and year separately for arrival, so these were combined and converted to datetime format to allow more versatility in analysis. \n",
    "\n",
    "Lastly, the data was explored to identify any outliers that may skew analysis. A few peculiar entries were found. For example, one group booked 2 years in advance and one brought 10 children and 10 kids, one guest also had 26 previous cancellations. Upon further exploration there was no clear evidence to rule out these observations, so no steps were taken to alter these data. "
   ]
  },
  {
   "cell_type": "markdown",
   "metadata": {},
   "source": [
    "### Import appropriate libraries"
   ]
  },
  {
   "cell_type": "code",
   "execution_count": 1,
   "metadata": {},
   "outputs": [],
   "source": [
    "import pandas as pd\n",
    "import numpy as np\n",
    "import matplotlib.pyplot as plt\n",
    "plt.style.use('ggplot')\n",
    "import seaborn as sns\n",
    "import os"
   ]
  },
  {
   "cell_type": "markdown",
   "metadata": {},
   "source": [
    "### Read in raw data"
   ]
  },
  {
   "cell_type": "code",
   "execution_count": 2,
   "metadata": {},
   "outputs": [],
   "source": [
    "#Read in the data\n",
    "hotels = pd.read_csv('https://raw.githubusercontent.com/rfordatascience/tidytuesday/master/data/2020/2020-02-11/hotels.csv')"
   ]
  },
  {
   "cell_type": "code",
   "execution_count": 3,
   "metadata": {},
   "outputs": [
    {
     "data": {
      "text/html": [
       "<div>\n",
       "<style scoped>\n",
       "    .dataframe tbody tr th:only-of-type {\n",
       "        vertical-align: middle;\n",
       "    }\n",
       "\n",
       "    .dataframe tbody tr th {\n",
       "        vertical-align: top;\n",
       "    }\n",
       "\n",
       "    .dataframe thead th {\n",
       "        text-align: right;\n",
       "    }\n",
       "</style>\n",
       "<table border=\"1\" class=\"dataframe\">\n",
       "  <thead>\n",
       "    <tr style=\"text-align: right;\">\n",
       "      <th></th>\n",
       "      <th>hotel</th>\n",
       "      <th>is_canceled</th>\n",
       "      <th>lead_time</th>\n",
       "      <th>arrival_date_year</th>\n",
       "      <th>arrival_date_month</th>\n",
       "      <th>arrival_date_week_number</th>\n",
       "      <th>arrival_date_day_of_month</th>\n",
       "      <th>stays_in_weekend_nights</th>\n",
       "      <th>stays_in_week_nights</th>\n",
       "      <th>adults</th>\n",
       "      <th>...</th>\n",
       "      <th>deposit_type</th>\n",
       "      <th>agent</th>\n",
       "      <th>company</th>\n",
       "      <th>days_in_waiting_list</th>\n",
       "      <th>customer_type</th>\n",
       "      <th>adr</th>\n",
       "      <th>required_car_parking_spaces</th>\n",
       "      <th>total_of_special_requests</th>\n",
       "      <th>reservation_status</th>\n",
       "      <th>reservation_status_date</th>\n",
       "    </tr>\n",
       "  </thead>\n",
       "  <tbody>\n",
       "    <tr>\n",
       "      <td>0</td>\n",
       "      <td>Resort Hotel</td>\n",
       "      <td>0</td>\n",
       "      <td>342</td>\n",
       "      <td>2015</td>\n",
       "      <td>July</td>\n",
       "      <td>27</td>\n",
       "      <td>1</td>\n",
       "      <td>0</td>\n",
       "      <td>0</td>\n",
       "      <td>2</td>\n",
       "      <td>...</td>\n",
       "      <td>No Deposit</td>\n",
       "      <td>NaN</td>\n",
       "      <td>NaN</td>\n",
       "      <td>0</td>\n",
       "      <td>Transient</td>\n",
       "      <td>0.0</td>\n",
       "      <td>0</td>\n",
       "      <td>0</td>\n",
       "      <td>Check-Out</td>\n",
       "      <td>2015-07-01</td>\n",
       "    </tr>\n",
       "    <tr>\n",
       "      <td>1</td>\n",
       "      <td>Resort Hotel</td>\n",
       "      <td>0</td>\n",
       "      <td>737</td>\n",
       "      <td>2015</td>\n",
       "      <td>July</td>\n",
       "      <td>27</td>\n",
       "      <td>1</td>\n",
       "      <td>0</td>\n",
       "      <td>0</td>\n",
       "      <td>2</td>\n",
       "      <td>...</td>\n",
       "      <td>No Deposit</td>\n",
       "      <td>NaN</td>\n",
       "      <td>NaN</td>\n",
       "      <td>0</td>\n",
       "      <td>Transient</td>\n",
       "      <td>0.0</td>\n",
       "      <td>0</td>\n",
       "      <td>0</td>\n",
       "      <td>Check-Out</td>\n",
       "      <td>2015-07-01</td>\n",
       "    </tr>\n",
       "    <tr>\n",
       "      <td>2</td>\n",
       "      <td>Resort Hotel</td>\n",
       "      <td>0</td>\n",
       "      <td>7</td>\n",
       "      <td>2015</td>\n",
       "      <td>July</td>\n",
       "      <td>27</td>\n",
       "      <td>1</td>\n",
       "      <td>0</td>\n",
       "      <td>1</td>\n",
       "      <td>1</td>\n",
       "      <td>...</td>\n",
       "      <td>No Deposit</td>\n",
       "      <td>NaN</td>\n",
       "      <td>NaN</td>\n",
       "      <td>0</td>\n",
       "      <td>Transient</td>\n",
       "      <td>75.0</td>\n",
       "      <td>0</td>\n",
       "      <td>0</td>\n",
       "      <td>Check-Out</td>\n",
       "      <td>2015-07-02</td>\n",
       "    </tr>\n",
       "    <tr>\n",
       "      <td>3</td>\n",
       "      <td>Resort Hotel</td>\n",
       "      <td>0</td>\n",
       "      <td>13</td>\n",
       "      <td>2015</td>\n",
       "      <td>July</td>\n",
       "      <td>27</td>\n",
       "      <td>1</td>\n",
       "      <td>0</td>\n",
       "      <td>1</td>\n",
       "      <td>1</td>\n",
       "      <td>...</td>\n",
       "      <td>No Deposit</td>\n",
       "      <td>304.0</td>\n",
       "      <td>NaN</td>\n",
       "      <td>0</td>\n",
       "      <td>Transient</td>\n",
       "      <td>75.0</td>\n",
       "      <td>0</td>\n",
       "      <td>0</td>\n",
       "      <td>Check-Out</td>\n",
       "      <td>2015-07-02</td>\n",
       "    </tr>\n",
       "    <tr>\n",
       "      <td>4</td>\n",
       "      <td>Resort Hotel</td>\n",
       "      <td>0</td>\n",
       "      <td>14</td>\n",
       "      <td>2015</td>\n",
       "      <td>July</td>\n",
       "      <td>27</td>\n",
       "      <td>1</td>\n",
       "      <td>0</td>\n",
       "      <td>2</td>\n",
       "      <td>2</td>\n",
       "      <td>...</td>\n",
       "      <td>No Deposit</td>\n",
       "      <td>240.0</td>\n",
       "      <td>NaN</td>\n",
       "      <td>0</td>\n",
       "      <td>Transient</td>\n",
       "      <td>98.0</td>\n",
       "      <td>0</td>\n",
       "      <td>1</td>\n",
       "      <td>Check-Out</td>\n",
       "      <td>2015-07-03</td>\n",
       "    </tr>\n",
       "  </tbody>\n",
       "</table>\n",
       "<p>5 rows × 32 columns</p>\n",
       "</div>"
      ],
      "text/plain": [
       "          hotel  is_canceled  lead_time  arrival_date_year arrival_date_month  \\\n",
       "0  Resort Hotel            0        342               2015               July   \n",
       "1  Resort Hotel            0        737               2015               July   \n",
       "2  Resort Hotel            0          7               2015               July   \n",
       "3  Resort Hotel            0         13               2015               July   \n",
       "4  Resort Hotel            0         14               2015               July   \n",
       "\n",
       "   arrival_date_week_number  arrival_date_day_of_month  \\\n",
       "0                        27                          1   \n",
       "1                        27                          1   \n",
       "2                        27                          1   \n",
       "3                        27                          1   \n",
       "4                        27                          1   \n",
       "\n",
       "   stays_in_weekend_nights  stays_in_week_nights  adults  ...  deposit_type  \\\n",
       "0                        0                     0       2  ...    No Deposit   \n",
       "1                        0                     0       2  ...    No Deposit   \n",
       "2                        0                     1       1  ...    No Deposit   \n",
       "3                        0                     1       1  ...    No Deposit   \n",
       "4                        0                     2       2  ...    No Deposit   \n",
       "\n",
       "   agent company days_in_waiting_list customer_type   adr  \\\n",
       "0    NaN     NaN                    0     Transient   0.0   \n",
       "1    NaN     NaN                    0     Transient   0.0   \n",
       "2    NaN     NaN                    0     Transient  75.0   \n",
       "3  304.0     NaN                    0     Transient  75.0   \n",
       "4  240.0     NaN                    0     Transient  98.0   \n",
       "\n",
       "   required_car_parking_spaces  total_of_special_requests  reservation_status  \\\n",
       "0                            0                          0           Check-Out   \n",
       "1                            0                          0           Check-Out   \n",
       "2                            0                          0           Check-Out   \n",
       "3                            0                          0           Check-Out   \n",
       "4                            0                          1           Check-Out   \n",
       "\n",
       "  reservation_status_date  \n",
       "0              2015-07-01  \n",
       "1              2015-07-01  \n",
       "2              2015-07-02  \n",
       "3              2015-07-02  \n",
       "4              2015-07-03  \n",
       "\n",
       "[5 rows x 32 columns]"
      ]
     },
     "execution_count": 3,
     "metadata": {},
     "output_type": "execute_result"
    }
   ],
   "source": [
    "hotels.head()"
   ]
  },
  {
   "cell_type": "markdown",
   "metadata": {},
   "source": [
    "### Data Cleaning"
   ]
  },
  {
   "cell_type": "code",
   "execution_count": 4,
   "metadata": {},
   "outputs": [],
   "source": [
    "# convert 'NULL' entries to np.nan\n",
    "cols = ['agent', 'company']\n",
    "for col in cols:\n",
    "    for i in range(len(hotels[col])):\n",
    "        if (hotels[col].iloc[i] == '       NULL'):\n",
    "            hotels[col].iloc[i] = np.nan\n",
    "        else:\n",
    "            continue"
   ]
  },
  {
   "cell_type": "code",
   "execution_count": 5,
   "metadata": {},
   "outputs": [],
   "source": [
    "# Insert 0 for each missing Children entry and convert to integer.\n",
    "hotels.children = pd.to_numeric(hotels.children.replace(np.nan, 0), downcast = 'integer')"
   ]
  },
  {
   "cell_type": "code",
   "execution_count": 6,
   "metadata": {},
   "outputs": [],
   "source": [
    "# Convert missing values for Company and Agent to 0, meaning 'no agent' and 'no company'.\n",
    "cols = ['company', 'agent']\n",
    "for col in cols:\n",
    "        hotels[col] = hotels[col].replace(np.nan, '0')"
   ]
  },
  {
   "cell_type": "code",
   "execution_count": 7,
   "metadata": {},
   "outputs": [],
   "source": [
    "# If country of origin is missing, replace as 'UNK' for unknown.\n",
    "hotels['country'] = hotels['country'].replace(np.nan, 'UNK')"
   ]
  },
  {
   "cell_type": "code",
   "execution_count": 8,
   "metadata": {},
   "outputs": [],
   "source": [
    "# convert reservation_status_date to datetime\n",
    "hotels['reservation_status_date'] = pd.to_datetime(hotels['reservation_status_date'])"
   ]
  },
  {
   "cell_type": "code",
   "execution_count": 9,
   "metadata": {},
   "outputs": [],
   "source": [
    "# drop undefined values\n",
    "hotels = hotels[hotels.market_segment != 'Undefined']"
   ]
  },
  {
   "cell_type": "code",
   "execution_count": 10,
   "metadata": {},
   "outputs": [],
   "source": [
    "# drop babies outlier\n",
    "hotels.drop(hotels[hotels.babies >=5].index, inplace=True)"
   ]
  },
  {
   "cell_type": "code",
   "execution_count": 11,
   "metadata": {},
   "outputs": [],
   "source": [
    "# replace any negative values for adr with zero using clip\n",
    "hotels['adr'] = hotels.adr.clip(lower=0)"
   ]
  },
  {
   "cell_type": "code",
   "execution_count": 12,
   "metadata": {},
   "outputs": [],
   "source": [
    "# Generalize children and babies to \"kids\"\n",
    "hotels['kids'] = hotels.children + hotels.babies\n",
    "\n",
    "hotels = (hotels.assign(kids = lambda df: df.kids.map(\n",
    "                    lambda kids: 'has_kids' if kids > 0 else 'no_kids')))"
   ]
  },
  {
   "cell_type": "code",
   "execution_count": 13,
   "metadata": {},
   "outputs": [
    {
     "name": "stdout",
     "output_type": "stream",
     "text": [
      "Hotels contains no null values\n"
     ]
    }
   ],
   "source": [
    "hotels.name = 'Hotels'\n",
    "null_data = hotels[hotels.isnull().any(axis=1)]\n",
    "if null_data.empty:\n",
    "    print(hotels.name + ' contains no null values')\n",
    "else:\n",
    "    print(hotels.name + ' does contain null values')"
   ]
  },
  {
   "cell_type": "code",
   "execution_count": 14,
   "metadata": {},
   "outputs": [],
   "source": [
    "hotels.to_csv(r'/Users/mattmerrill/Springboard/Capstone/Predicting_Hotel_Cancellations/Jupyter_Notebooks/data/hotels_clean.csv', index=True)"
   ]
  },
  {
   "cell_type": "code",
   "execution_count": 49,
   "metadata": {},
   "outputs": [
    {
     "data": {
      "text/html": [
       "<div>\n",
       "<style scoped>\n",
       "    .dataframe tbody tr th:only-of-type {\n",
       "        vertical-align: middle;\n",
       "    }\n",
       "\n",
       "    .dataframe tbody tr th {\n",
       "        vertical-align: top;\n",
       "    }\n",
       "\n",
       "    .dataframe thead th {\n",
       "        text-align: right;\n",
       "    }\n",
       "</style>\n",
       "<table border=\"1\" class=\"dataframe\">\n",
       "  <thead>\n",
       "    <tr style=\"text-align: right;\">\n",
       "      <th></th>\n",
       "      <th>is_canceled</th>\n",
       "      <th>market_segment</th>\n",
       "      <th>lead_time</th>\n",
       "      <th>arrival_date_year</th>\n",
       "    </tr>\n",
       "  </thead>\n",
       "  <tbody>\n",
       "    <tr>\n",
       "      <td>0</td>\n",
       "      <td>0</td>\n",
       "      <td>Direct</td>\n",
       "      <td>342</td>\n",
       "      <td>2015</td>\n",
       "    </tr>\n",
       "    <tr>\n",
       "      <td>1</td>\n",
       "      <td>0</td>\n",
       "      <td>Direct</td>\n",
       "      <td>737</td>\n",
       "      <td>2015</td>\n",
       "    </tr>\n",
       "    <tr>\n",
       "      <td>2</td>\n",
       "      <td>0</td>\n",
       "      <td>Direct</td>\n",
       "      <td>7</td>\n",
       "      <td>2015</td>\n",
       "    </tr>\n",
       "    <tr>\n",
       "      <td>3</td>\n",
       "      <td>0</td>\n",
       "      <td>Corporate</td>\n",
       "      <td>13</td>\n",
       "      <td>2015</td>\n",
       "    </tr>\n",
       "    <tr>\n",
       "      <td>4</td>\n",
       "      <td>0</td>\n",
       "      <td>Online TA</td>\n",
       "      <td>14</td>\n",
       "      <td>2015</td>\n",
       "    </tr>\n",
       "    <tr>\n",
       "      <td>...</td>\n",
       "      <td>...</td>\n",
       "      <td>...</td>\n",
       "      <td>...</td>\n",
       "      <td>...</td>\n",
       "    </tr>\n",
       "    <tr>\n",
       "      <td>119385</td>\n",
       "      <td>0</td>\n",
       "      <td>Offline TA/TO</td>\n",
       "      <td>23</td>\n",
       "      <td>2017</td>\n",
       "    </tr>\n",
       "    <tr>\n",
       "      <td>119386</td>\n",
       "      <td>0</td>\n",
       "      <td>Online TA</td>\n",
       "      <td>102</td>\n",
       "      <td>2017</td>\n",
       "    </tr>\n",
       "    <tr>\n",
       "      <td>119387</td>\n",
       "      <td>0</td>\n",
       "      <td>Online TA</td>\n",
       "      <td>34</td>\n",
       "      <td>2017</td>\n",
       "    </tr>\n",
       "    <tr>\n",
       "      <td>119388</td>\n",
       "      <td>0</td>\n",
       "      <td>Online TA</td>\n",
       "      <td>109</td>\n",
       "      <td>2017</td>\n",
       "    </tr>\n",
       "    <tr>\n",
       "      <td>119389</td>\n",
       "      <td>0</td>\n",
       "      <td>Online TA</td>\n",
       "      <td>205</td>\n",
       "      <td>2017</td>\n",
       "    </tr>\n",
       "  </tbody>\n",
       "</table>\n",
       "<p>119386 rows × 4 columns</p>\n",
       "</div>"
      ],
      "text/plain": [
       "        is_canceled market_segment  lead_time  arrival_date_year\n",
       "0                 0         Direct        342               2015\n",
       "1                 0         Direct        737               2015\n",
       "2                 0         Direct          7               2015\n",
       "3                 0      Corporate         13               2015\n",
       "4                 0      Online TA         14               2015\n",
       "...             ...            ...        ...                ...\n",
       "119385            0  Offline TA/TO         23               2017\n",
       "119386            0      Online TA        102               2017\n",
       "119387            0      Online TA         34               2017\n",
       "119388            0      Online TA        109               2017\n",
       "119389            0      Online TA        205               2017\n",
       "\n",
       "[119386 rows x 4 columns]"
      ]
     },
     "execution_count": 49,
     "metadata": {},
     "output_type": "execute_result"
    }
   ],
   "source": [
    "ms_lead = hotels[['is_canceled', 'market_segment', 'lead_time', 'arrival_date_year']]\n",
    "ms_lead"
   ]
  },
  {
   "cell_type": "code",
   "execution_count": 64,
   "metadata": {},
   "outputs": [
    {
     "data": {
      "text/html": [
       "<div>\n",
       "<style scoped>\n",
       "    .dataframe tbody tr th:only-of-type {\n",
       "        vertical-align: middle;\n",
       "    }\n",
       "\n",
       "    .dataframe tbody tr th {\n",
       "        vertical-align: top;\n",
       "    }\n",
       "\n",
       "    .dataframe thead th {\n",
       "        text-align: right;\n",
       "    }\n",
       "</style>\n",
       "<table border=\"1\" class=\"dataframe\">\n",
       "  <thead>\n",
       "    <tr style=\"text-align: right;\">\n",
       "      <th></th>\n",
       "      <th>is_canceled</th>\n",
       "      <th>market_segment</th>\n",
       "      <th>lead_time</th>\n",
       "      <th>arrival_date_year</th>\n",
       "    </tr>\n",
       "  </thead>\n",
       "  <tbody>\n",
       "    <tr>\n",
       "      <td>3819</td>\n",
       "      <td>1</td>\n",
       "      <td>Offline TA/TO</td>\n",
       "      <td>284</td>\n",
       "      <td>2016</td>\n",
       "    </tr>\n",
       "    <tr>\n",
       "      <td>3960</td>\n",
       "      <td>1</td>\n",
       "      <td>Offline TA/TO</td>\n",
       "      <td>312</td>\n",
       "      <td>2016</td>\n",
       "    </tr>\n",
       "    <tr>\n",
       "      <td>4948</td>\n",
       "      <td>1</td>\n",
       "      <td>Groups</td>\n",
       "      <td>275</td>\n",
       "      <td>2016</td>\n",
       "    </tr>\n",
       "    <tr>\n",
       "      <td>4956</td>\n",
       "      <td>1</td>\n",
       "      <td>Groups</td>\n",
       "      <td>275</td>\n",
       "      <td>2016</td>\n",
       "    </tr>\n",
       "    <tr>\n",
       "      <td>4957</td>\n",
       "      <td>1</td>\n",
       "      <td>Groups</td>\n",
       "      <td>275</td>\n",
       "      <td>2016</td>\n",
       "    </tr>\n",
       "    <tr>\n",
       "      <td>...</td>\n",
       "      <td>...</td>\n",
       "      <td>...</td>\n",
       "      <td>...</td>\n",
       "      <td>...</td>\n",
       "    </tr>\n",
       "    <tr>\n",
       "      <td>82752</td>\n",
       "      <td>1</td>\n",
       "      <td>Offline TA/TO</td>\n",
       "      <td>325</td>\n",
       "      <td>2016</td>\n",
       "    </tr>\n",
       "    <tr>\n",
       "      <td>82753</td>\n",
       "      <td>1</td>\n",
       "      <td>Offline TA/TO</td>\n",
       "      <td>325</td>\n",
       "      <td>2016</td>\n",
       "    </tr>\n",
       "    <tr>\n",
       "      <td>85211</td>\n",
       "      <td>1</td>\n",
       "      <td>Corporate</td>\n",
       "      <td>304</td>\n",
       "      <td>2016</td>\n",
       "    </tr>\n",
       "    <tr>\n",
       "      <td>87687</td>\n",
       "      <td>1</td>\n",
       "      <td>Direct</td>\n",
       "      <td>315</td>\n",
       "      <td>2016</td>\n",
       "    </tr>\n",
       "    <tr>\n",
       "      <td>87688</td>\n",
       "      <td>1</td>\n",
       "      <td>Direct</td>\n",
       "      <td>312</td>\n",
       "      <td>2016</td>\n",
       "    </tr>\n",
       "  </tbody>\n",
       "</table>\n",
       "<p>3486 rows × 4 columns</p>\n",
       "</div>"
      ],
      "text/plain": [
       "       is_canceled market_segment  lead_time  arrival_date_year\n",
       "3819             1  Offline TA/TO        284               2016\n",
       "3960             1  Offline TA/TO        312               2016\n",
       "4948             1         Groups        275               2016\n",
       "4956             1         Groups        275               2016\n",
       "4957             1         Groups        275               2016\n",
       "...            ...            ...        ...                ...\n",
       "82752            1  Offline TA/TO        325               2016\n",
       "82753            1  Offline TA/TO        325               2016\n",
       "85211            1      Corporate        304               2016\n",
       "87687            1         Direct        315               2016\n",
       "87688            1         Direct        312               2016\n",
       "\n",
       "[3486 rows x 4 columns]"
      ]
     },
     "execution_count": 64,
     "metadata": {},
     "output_type": "execute_result"
    }
   ],
   "source": [
    "ms_lead[(ms_lead.lead_time >= 250) & \\\n",
    "        (ms_lead.market_segment != 'Online TA') & \\\n",
    "        (ms_lead.is_canceled == 1) & \\\n",
    "        (ms_lead.arrival_date_year == 2016)]"
   ]
  },
  {
   "cell_type": "code",
   "execution_count": 66,
   "metadata": {},
   "outputs": [
    {
     "name": "stdout",
     "output_type": "stream",
     "text": [
      "<class 'pandas.core.frame.DataFrame'>\n",
      "Int64Index: 119386 entries, 0 to 119389\n",
      "Data columns (total 33 columns):\n",
      "hotel                             119386 non-null object\n",
      "is_canceled                       119386 non-null int64\n",
      "lead_time                         119386 non-null int64\n",
      "arrival_date_year                 119386 non-null int64\n",
      "arrival_date_month                119386 non-null object\n",
      "arrival_date_week_number          119386 non-null int64\n",
      "arrival_date_day_of_month         119386 non-null int64\n",
      "stays_in_weekend_nights           119386 non-null int64\n",
      "stays_in_week_nights              119386 non-null int64\n",
      "adults                            119386 non-null int64\n",
      "children                          119386 non-null int8\n",
      "babies                            119386 non-null int64\n",
      "meal                              119386 non-null object\n",
      "country                           119386 non-null object\n",
      "market_segment                    119386 non-null object\n",
      "distribution_channel              119386 non-null object\n",
      "is_repeated_guest                 119386 non-null int64\n",
      "previous_cancellations            119386 non-null int64\n",
      "previous_bookings_not_canceled    119386 non-null int64\n",
      "reserved_room_type                119386 non-null object\n",
      "assigned_room_type                119386 non-null object\n",
      "booking_changes                   119386 non-null int64\n",
      "deposit_type                      119386 non-null object\n",
      "agent                             119386 non-null object\n",
      "company                           119386 non-null object\n",
      "days_in_waiting_list              119386 non-null int64\n",
      "customer_type                     119386 non-null object\n",
      "adr                               119386 non-null float64\n",
      "required_car_parking_spaces       119386 non-null int64\n",
      "total_of_special_requests         119386 non-null int64\n",
      "reservation_status                119386 non-null object\n",
      "reservation_status_date           119386 non-null datetime64[ns]\n",
      "kids                              119386 non-null object\n",
      "dtypes: datetime64[ns](1), float64(1), int64(16), int8(1), object(14)\n",
      "memory usage: 30.2+ MB\n"
     ]
    }
   ],
   "source": [
    "hotels.info()"
   ]
  },
  {
   "cell_type": "markdown",
   "metadata": {},
   "source": [
    "bookings from ota's with lead times greater than 250 days had a cancellation rate of 64% in 2017\n",
    "- The other methods of booking in 2017 had a cancellation rate of 47%\n",
    "bookings from ota's with lead time less than 10 days had a cancellation rate of 12%"
   ]
  },
  {
   "cell_type": "code",
   "execution_count": 46,
   "metadata": {},
   "outputs": [
    {
     "data": {
      "text/plain": [
       "array(['Direct', 'Corporate', 'TA/TO', 'Undefined', 'GDS'], dtype=object)"
      ]
     },
     "execution_count": 46,
     "metadata": {},
     "output_type": "execute_result"
    }
   ],
   "source": [
    "hotels.distribution_channel.unique()"
   ]
  },
  {
   "cell_type": "code",
   "execution_count": null,
   "metadata": {},
   "outputs": [],
   "source": []
  }
 ],
 "metadata": {
  "kernelspec": {
   "display_name": "Python 3",
   "language": "python",
   "name": "python3"
  },
  "language_info": {
   "codemirror_mode": {
    "name": "ipython",
    "version": 3
   },
   "file_extension": ".py",
   "mimetype": "text/x-python",
   "name": "python",
   "nbconvert_exporter": "python",
   "pygments_lexer": "ipython3",
   "version": "3.7.4"
  }
 },
 "nbformat": 4,
 "nbformat_minor": 2
}
