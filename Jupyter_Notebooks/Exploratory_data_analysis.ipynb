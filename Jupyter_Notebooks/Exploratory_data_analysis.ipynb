{
 "cells": [
  {
   "cell_type": "markdown",
   "metadata": {},
   "source": [
    "## Exploratory Data Analysis: \n",
    "\n",
    "Before beginning data analysis, it was hypothesised that over time, customer bookings from online travel agencies increase along with the portion of cancellations from these bookings. I followed up with asking a number of questions to gain insight into other variables and factors that may contribute to feature selection."
   ]
  },
  {
   "cell_type": "code",
   "execution_count": 2,
   "metadata": {},
   "outputs": [],
   "source": [
    "import pandas as pd\n",
    "import numpy as np\n",
    "import matplotlib.pyplot as plt\n",
    "plt.style.use('ggplot')\n",
    "import seaborn as sns\n",
    "import os"
   ]
  },
  {
   "cell_type": "code",
   "execution_count": 4,
   "metadata": {},
   "outputs": [],
   "source": [
    "# Import data from the cleaning stage\n",
    "hotels = pd.read_csv('data/hotels_clean.csv')"
   ]
  },
  {
   "cell_type": "code",
   "execution_count": 5,
   "metadata": {},
   "outputs": [
    {
     "data": {
      "text/html": [
       "<div>\n",
       "<style scoped>\n",
       "    .dataframe tbody tr th:only-of-type {\n",
       "        vertical-align: middle;\n",
       "    }\n",
       "\n",
       "    .dataframe tbody tr th {\n",
       "        vertical-align: top;\n",
       "    }\n",
       "\n",
       "    .dataframe thead th {\n",
       "        text-align: right;\n",
       "    }\n",
       "</style>\n",
       "<table border=\"1\" class=\"dataframe\">\n",
       "  <thead>\n",
       "    <tr style=\"text-align: right;\">\n",
       "      <th></th>\n",
       "      <th>count</th>\n",
       "      <th>unique</th>\n",
       "      <th>top</th>\n",
       "      <th>freq</th>\n",
       "    </tr>\n",
       "  </thead>\n",
       "  <tbody>\n",
       "    <tr>\n",
       "      <td>hotel</td>\n",
       "      <td>119386</td>\n",
       "      <td>2</td>\n",
       "      <td>City Hotel</td>\n",
       "      <td>79326</td>\n",
       "    </tr>\n",
       "    <tr>\n",
       "      <td>arrival_date_month</td>\n",
       "      <td>119386</td>\n",
       "      <td>12</td>\n",
       "      <td>August</td>\n",
       "      <td>13875</td>\n",
       "    </tr>\n",
       "    <tr>\n",
       "      <td>meal</td>\n",
       "      <td>119386</td>\n",
       "      <td>5</td>\n",
       "      <td>BB</td>\n",
       "      <td>92306</td>\n",
       "    </tr>\n",
       "    <tr>\n",
       "      <td>country</td>\n",
       "      <td>119386</td>\n",
       "      <td>178</td>\n",
       "      <td>PRT</td>\n",
       "      <td>48587</td>\n",
       "    </tr>\n",
       "    <tr>\n",
       "      <td>market_segment</td>\n",
       "      <td>119386</td>\n",
       "      <td>7</td>\n",
       "      <td>Online TA</td>\n",
       "      <td>56476</td>\n",
       "    </tr>\n",
       "    <tr>\n",
       "      <td>distribution_channel</td>\n",
       "      <td>119386</td>\n",
       "      <td>5</td>\n",
       "      <td>TA/TO</td>\n",
       "      <td>97869</td>\n",
       "    </tr>\n",
       "    <tr>\n",
       "      <td>reserved_room_type</td>\n",
       "      <td>119386</td>\n",
       "      <td>10</td>\n",
       "      <td>A</td>\n",
       "      <td>85993</td>\n",
       "    </tr>\n",
       "    <tr>\n",
       "      <td>assigned_room_type</td>\n",
       "      <td>119386</td>\n",
       "      <td>12</td>\n",
       "      <td>A</td>\n",
       "      <td>74053</td>\n",
       "    </tr>\n",
       "    <tr>\n",
       "      <td>deposit_type</td>\n",
       "      <td>119386</td>\n",
       "      <td>3</td>\n",
       "      <td>No Deposit</td>\n",
       "      <td>104637</td>\n",
       "    </tr>\n",
       "    <tr>\n",
       "      <td>customer_type</td>\n",
       "      <td>119386</td>\n",
       "      <td>4</td>\n",
       "      <td>Transient</td>\n",
       "      <td>89612</td>\n",
       "    </tr>\n",
       "    <tr>\n",
       "      <td>reservation_status</td>\n",
       "      <td>119386</td>\n",
       "      <td>3</td>\n",
       "      <td>Check-Out</td>\n",
       "      <td>75164</td>\n",
       "    </tr>\n",
       "    <tr>\n",
       "      <td>reservation_status_date</td>\n",
       "      <td>119386</td>\n",
       "      <td>926</td>\n",
       "      <td>2015-10-21</td>\n",
       "      <td>1461</td>\n",
       "    </tr>\n",
       "    <tr>\n",
       "      <td>kids</td>\n",
       "      <td>119386</td>\n",
       "      <td>2</td>\n",
       "      <td>no_kids</td>\n",
       "      <td>110056</td>\n",
       "    </tr>\n",
       "  </tbody>\n",
       "</table>\n",
       "</div>"
      ],
      "text/plain": [
       "                          count unique         top    freq\n",
       "hotel                    119386      2  City Hotel   79326\n",
       "arrival_date_month       119386     12      August   13875\n",
       "meal                     119386      5          BB   92306\n",
       "country                  119386    178         PRT   48587\n",
       "market_segment           119386      7   Online TA   56476\n",
       "distribution_channel     119386      5       TA/TO   97869\n",
       "reserved_room_type       119386     10           A   85993\n",
       "assigned_room_type       119386     12           A   74053\n",
       "deposit_type             119386      3  No Deposit  104637\n",
       "customer_type            119386      4   Transient   89612\n",
       "reservation_status       119386      3   Check-Out   75164\n",
       "reservation_status_date  119386    926  2015-10-21    1461\n",
       "kids                     119386      2     no_kids  110056"
      ]
     },
     "execution_count": 5,
     "metadata": {},
     "output_type": "execute_result"
    }
   ],
   "source": [
    "# Inspect categorical columns\n",
    "hotels.describe(exclude=[np.number]).T"
   ]
  },
  {
   "cell_type": "code",
   "execution_count": 5,
   "metadata": {},
   "outputs": [
    {
     "data": {
      "text/html": [
       "<div>\n",
       "<style scoped>\n",
       "    .dataframe tbody tr th:only-of-type {\n",
       "        vertical-align: middle;\n",
       "    }\n",
       "\n",
       "    .dataframe tbody tr th {\n",
       "        vertical-align: top;\n",
       "    }\n",
       "\n",
       "    .dataframe thead th {\n",
       "        text-align: right;\n",
       "    }\n",
       "</style>\n",
       "<table border=\"1\" class=\"dataframe\">\n",
       "  <thead>\n",
       "    <tr style=\"text-align: right;\">\n",
       "      <th></th>\n",
       "      <th>count</th>\n",
       "      <th>mean</th>\n",
       "      <th>std</th>\n",
       "      <th>min</th>\n",
       "      <th>25%</th>\n",
       "      <th>50%</th>\n",
       "      <th>75%</th>\n",
       "      <th>max</th>\n",
       "    </tr>\n",
       "  </thead>\n",
       "  <tbody>\n",
       "    <tr>\n",
       "      <td>Unnamed: 0</td>\n",
       "      <td>119386.0</td>\n",
       "      <td>59694.769914</td>\n",
       "      <td>34465.493318</td>\n",
       "      <td>0.0</td>\n",
       "      <td>29846.25</td>\n",
       "      <td>59695.50</td>\n",
       "      <td>89542.75</td>\n",
       "      <td>119389.0</td>\n",
       "    </tr>\n",
       "    <tr>\n",
       "      <td>is_canceled</td>\n",
       "      <td>119386.0</td>\n",
       "      <td>0.370412</td>\n",
       "      <td>0.482917</td>\n",
       "      <td>0.0</td>\n",
       "      <td>0.00</td>\n",
       "      <td>0.00</td>\n",
       "      <td>1.00</td>\n",
       "      <td>1.0</td>\n",
       "    </tr>\n",
       "    <tr>\n",
       "      <td>lead_time</td>\n",
       "      <td>119386.0</td>\n",
       "      <td>104.014474</td>\n",
       "      <td>106.863548</td>\n",
       "      <td>0.0</td>\n",
       "      <td>18.00</td>\n",
       "      <td>69.00</td>\n",
       "      <td>160.00</td>\n",
       "      <td>737.0</td>\n",
       "    </tr>\n",
       "    <tr>\n",
       "      <td>arrival_date_year</td>\n",
       "      <td>119386.0</td>\n",
       "      <td>2016.156585</td>\n",
       "      <td>0.707464</td>\n",
       "      <td>2015.0</td>\n",
       "      <td>2016.00</td>\n",
       "      <td>2016.00</td>\n",
       "      <td>2017.00</td>\n",
       "      <td>2017.0</td>\n",
       "    </tr>\n",
       "    <tr>\n",
       "      <td>arrival_date_week_number</td>\n",
       "      <td>119386.0</td>\n",
       "      <td>27.165170</td>\n",
       "      <td>13.605104</td>\n",
       "      <td>1.0</td>\n",
       "      <td>16.00</td>\n",
       "      <td>28.00</td>\n",
       "      <td>38.00</td>\n",
       "      <td>53.0</td>\n",
       "    </tr>\n",
       "    <tr>\n",
       "      <td>arrival_date_day_of_month</td>\n",
       "      <td>119386.0</td>\n",
       "      <td>15.798511</td>\n",
       "      <td>8.780825</td>\n",
       "      <td>1.0</td>\n",
       "      <td>8.00</td>\n",
       "      <td>16.00</td>\n",
       "      <td>23.00</td>\n",
       "      <td>31.0</td>\n",
       "    </tr>\n",
       "    <tr>\n",
       "      <td>stays_in_weekend_nights</td>\n",
       "      <td>119386.0</td>\n",
       "      <td>0.927605</td>\n",
       "      <td>0.998618</td>\n",
       "      <td>0.0</td>\n",
       "      <td>0.00</td>\n",
       "      <td>1.00</td>\n",
       "      <td>2.00</td>\n",
       "      <td>19.0</td>\n",
       "    </tr>\n",
       "    <tr>\n",
       "      <td>stays_in_week_nights</td>\n",
       "      <td>119386.0</td>\n",
       "      <td>2.500343</td>\n",
       "      <td>1.908298</td>\n",
       "      <td>0.0</td>\n",
       "      <td>1.00</td>\n",
       "      <td>2.00</td>\n",
       "      <td>3.00</td>\n",
       "      <td>50.0</td>\n",
       "    </tr>\n",
       "    <tr>\n",
       "      <td>adults</td>\n",
       "      <td>119386.0</td>\n",
       "      <td>1.856399</td>\n",
       "      <td>0.579256</td>\n",
       "      <td>0.0</td>\n",
       "      <td>2.00</td>\n",
       "      <td>2.00</td>\n",
       "      <td>2.00</td>\n",
       "      <td>55.0</td>\n",
       "    </tr>\n",
       "    <tr>\n",
       "      <td>children</td>\n",
       "      <td>119386.0</td>\n",
       "      <td>0.103890</td>\n",
       "      <td>0.398561</td>\n",
       "      <td>0.0</td>\n",
       "      <td>0.00</td>\n",
       "      <td>0.00</td>\n",
       "      <td>0.00</td>\n",
       "      <td>10.0</td>\n",
       "    </tr>\n",
       "    <tr>\n",
       "      <td>babies</td>\n",
       "      <td>119386.0</td>\n",
       "      <td>0.007790</td>\n",
       "      <td>0.089334</td>\n",
       "      <td>0.0</td>\n",
       "      <td>0.00</td>\n",
       "      <td>0.00</td>\n",
       "      <td>0.00</td>\n",
       "      <td>2.0</td>\n",
       "    </tr>\n",
       "    <tr>\n",
       "      <td>is_repeated_guest</td>\n",
       "      <td>119386.0</td>\n",
       "      <td>0.031913</td>\n",
       "      <td>0.175770</td>\n",
       "      <td>0.0</td>\n",
       "      <td>0.00</td>\n",
       "      <td>0.00</td>\n",
       "      <td>0.00</td>\n",
       "      <td>1.0</td>\n",
       "    </tr>\n",
       "    <tr>\n",
       "      <td>previous_cancellations</td>\n",
       "      <td>119386.0</td>\n",
       "      <td>0.087121</td>\n",
       "      <td>0.844350</td>\n",
       "      <td>0.0</td>\n",
       "      <td>0.00</td>\n",
       "      <td>0.00</td>\n",
       "      <td>0.00</td>\n",
       "      <td>26.0</td>\n",
       "    </tr>\n",
       "    <tr>\n",
       "      <td>previous_bookings_not_canceled</td>\n",
       "      <td>119386.0</td>\n",
       "      <td>0.137102</td>\n",
       "      <td>1.497462</td>\n",
       "      <td>0.0</td>\n",
       "      <td>0.00</td>\n",
       "      <td>0.00</td>\n",
       "      <td>0.00</td>\n",
       "      <td>72.0</td>\n",
       "    </tr>\n",
       "    <tr>\n",
       "      <td>booking_changes</td>\n",
       "      <td>119386.0</td>\n",
       "      <td>0.221115</td>\n",
       "      <td>0.652308</td>\n",
       "      <td>0.0</td>\n",
       "      <td>0.00</td>\n",
       "      <td>0.00</td>\n",
       "      <td>0.00</td>\n",
       "      <td>21.0</td>\n",
       "    </tr>\n",
       "    <tr>\n",
       "      <td>agent</td>\n",
       "      <td>119386.0</td>\n",
       "      <td>74.829955</td>\n",
       "      <td>107.143125</td>\n",
       "      <td>0.0</td>\n",
       "      <td>7.00</td>\n",
       "      <td>9.00</td>\n",
       "      <td>152.00</td>\n",
       "      <td>535.0</td>\n",
       "    </tr>\n",
       "    <tr>\n",
       "      <td>company</td>\n",
       "      <td>119386.0</td>\n",
       "      <td>10.775518</td>\n",
       "      <td>53.944751</td>\n",
       "      <td>0.0</td>\n",
       "      <td>0.00</td>\n",
       "      <td>0.00</td>\n",
       "      <td>0.00</td>\n",
       "      <td>543.0</td>\n",
       "    </tr>\n",
       "    <tr>\n",
       "      <td>days_in_waiting_list</td>\n",
       "      <td>119386.0</td>\n",
       "      <td>2.321227</td>\n",
       "      <td>17.595011</td>\n",
       "      <td>0.0</td>\n",
       "      <td>0.00</td>\n",
       "      <td>0.00</td>\n",
       "      <td>0.00</td>\n",
       "      <td>391.0</td>\n",
       "    </tr>\n",
       "    <tr>\n",
       "      <td>adr</td>\n",
       "      <td>119386.0</td>\n",
       "      <td>101.832832</td>\n",
       "      <td>50.535246</td>\n",
       "      <td>0.0</td>\n",
       "      <td>69.29</td>\n",
       "      <td>94.59</td>\n",
       "      <td>126.00</td>\n",
       "      <td>5400.0</td>\n",
       "    </tr>\n",
       "    <tr>\n",
       "      <td>required_car_parking_spaces</td>\n",
       "      <td>119386.0</td>\n",
       "      <td>0.062520</td>\n",
       "      <td>0.245295</td>\n",
       "      <td>0.0</td>\n",
       "      <td>0.00</td>\n",
       "      <td>0.00</td>\n",
       "      <td>0.00</td>\n",
       "      <td>8.0</td>\n",
       "    </tr>\n",
       "    <tr>\n",
       "      <td>total_of_special_requests</td>\n",
       "      <td>119386.0</td>\n",
       "      <td>0.571348</td>\n",
       "      <td>0.792797</td>\n",
       "      <td>0.0</td>\n",
       "      <td>0.00</td>\n",
       "      <td>0.00</td>\n",
       "      <td>1.00</td>\n",
       "      <td>5.0</td>\n",
       "    </tr>\n",
       "  </tbody>\n",
       "</table>\n",
       "</div>"
      ],
      "text/plain": [
       "                                   count          mean           std     min  \\\n",
       "Unnamed: 0                      119386.0  59694.769914  34465.493318     0.0   \n",
       "is_canceled                     119386.0      0.370412      0.482917     0.0   \n",
       "lead_time                       119386.0    104.014474    106.863548     0.0   \n",
       "arrival_date_year               119386.0   2016.156585      0.707464  2015.0   \n",
       "arrival_date_week_number        119386.0     27.165170     13.605104     1.0   \n",
       "arrival_date_day_of_month       119386.0     15.798511      8.780825     1.0   \n",
       "stays_in_weekend_nights         119386.0      0.927605      0.998618     0.0   \n",
       "stays_in_week_nights            119386.0      2.500343      1.908298     0.0   \n",
       "adults                          119386.0      1.856399      0.579256     0.0   \n",
       "children                        119386.0      0.103890      0.398561     0.0   \n",
       "babies                          119386.0      0.007790      0.089334     0.0   \n",
       "is_repeated_guest               119386.0      0.031913      0.175770     0.0   \n",
       "previous_cancellations          119386.0      0.087121      0.844350     0.0   \n",
       "previous_bookings_not_canceled  119386.0      0.137102      1.497462     0.0   \n",
       "booking_changes                 119386.0      0.221115      0.652308     0.0   \n",
       "agent                           119386.0     74.829955    107.143125     0.0   \n",
       "company                         119386.0     10.775518     53.944751     0.0   \n",
       "days_in_waiting_list            119386.0      2.321227     17.595011     0.0   \n",
       "adr                             119386.0    101.832832     50.535246     0.0   \n",
       "required_car_parking_spaces     119386.0      0.062520      0.245295     0.0   \n",
       "total_of_special_requests       119386.0      0.571348      0.792797     0.0   \n",
       "\n",
       "                                     25%       50%       75%       max  \n",
       "Unnamed: 0                      29846.25  59695.50  89542.75  119389.0  \n",
       "is_canceled                         0.00      0.00      1.00       1.0  \n",
       "lead_time                          18.00     69.00    160.00     737.0  \n",
       "arrival_date_year                2016.00   2016.00   2017.00    2017.0  \n",
       "arrival_date_week_number           16.00     28.00     38.00      53.0  \n",
       "arrival_date_day_of_month           8.00     16.00     23.00      31.0  \n",
       "stays_in_weekend_nights             0.00      1.00      2.00      19.0  \n",
       "stays_in_week_nights                1.00      2.00      3.00      50.0  \n",
       "adults                              2.00      2.00      2.00      55.0  \n",
       "children                            0.00      0.00      0.00      10.0  \n",
       "babies                              0.00      0.00      0.00       2.0  \n",
       "is_repeated_guest                   0.00      0.00      0.00       1.0  \n",
       "previous_cancellations              0.00      0.00      0.00      26.0  \n",
       "previous_bookings_not_canceled      0.00      0.00      0.00      72.0  \n",
       "booking_changes                     0.00      0.00      0.00      21.0  \n",
       "agent                               7.00      9.00    152.00     535.0  \n",
       "company                             0.00      0.00      0.00     543.0  \n",
       "days_in_waiting_list                0.00      0.00      0.00     391.0  \n",
       "adr                                69.29     94.59    126.00    5400.0  \n",
       "required_car_parking_spaces         0.00      0.00      0.00       8.0  \n",
       "total_of_special_requests           0.00      0.00      1.00       5.0  "
      ]
     },
     "execution_count": 5,
     "metadata": {},
     "output_type": "execute_result"
    }
   ],
   "source": [
    "# Inspect numerical columns\n",
    "hotels.describe(include=[np.number]).T"
   ]
  },
  {
   "cell_type": "markdown",
   "metadata": {},
   "source": [
    "#### Initial findings of numeric columns:\n",
    "\n",
    " - About 25% of bookings from 2015 to 2017 were cancelled\n",
    " - 50% of bookings occurred between the 16th and 38th week of the year.\n",
    " - The median lead time is 69 with an IQR of 142\n",
    " - Guests typically do not spend any time on a waiting list, but the max was 391 days.\n",
    " - The average daily rate (ADR) was about 94.5 with a max of 5400.\n",
    " \n",
    "#### Initial findings of categorical columns:\n",
    "\n",
    "  - August is the most popular month between both hotels.\n",
    "  - Most people who visit are from Portugal (the country where both hotels are located).\n",
    "  - Most bookings are made with an online travel agent.\n",
    "  - Most bookings are made with travel agent '9.0'.\n",
    "  - Most people do not go through a company."
   ]
  },
  {
   "cell_type": "markdown",
   "metadata": {},
   "source": [
    "### What is the most common means of booking? Through which booking channel do most cancellations occur?"
   ]
  },
  {
   "cell_type": "code",
   "execution_count": 6,
   "metadata": {},
   "outputs": [],
   "source": [
    "def autolabel(rects):\n",
    "    \"\"\"Attach a text label above each bar in *rects*, displaying its height.\"\"\"\n",
    "    for rect in rects:\n",
    "        height = rect.get_height()\n",
    "        ax.annotate('{}'.format(height),\n",
    "                    xy=(rect.get_x() + rect.get_width() / 2, height),\n",
    "                    xytext=(0, 3),  # 3 points vertical offset\n",
    "                    textcoords=\"offset points\",\n",
    "                    ha='center', va='bottom')"
   ]
  },
  {
   "cell_type": "code",
   "execution_count": 7,
   "metadata": {},
   "outputs": [],
   "source": [
    "# Percent of canceled bookings by market segment\n",
    "canceled_pct = round(100*hotels[hotels.is_canceled == 1].market_segment\\\n",
    "                                                        .value_counts(normalize = True, sort = False)\\\n",
    "                                                        .sort_index(), 1)\n",
    "# Percent of bookings from each market segment\n",
    "market_segment_pct = round(100*hotels.market_segment\\\n",
    "                                     .value_counts(normalize = True, sort = False)\\\n",
    "                                     .sort_index(), 1)"
   ]
  },
  {
   "cell_type": "code",
   "execution_count": 8,
   "metadata": {},
   "outputs": [
    {
     "data": {
      "image/png": "[encoded data removed]",
      "text/plain": [
       "<Figure size 720x432 with 1 Axes>"
      ]
     },
     "metadata": {
      "needs_background": "light"
     },
     "output_type": "display_data"
    }
   ],
   "source": [
    "# set axis labels for market_segment options\n",
    "labels = list(canceled_pct.index)\n",
    "x = np.arange(len(labels))\n",
    "width = 0.35\n",
    "\n",
    "# Create bar chart\n",
    "fig, ax = plt.subplots(figsize=(10, 6)) \n",
    "ms_canceled = ax.bar(x + width/2, canceled_pct, width, label = 'Cancelation Distribution')\n",
    "ms_not_canceled = ax.bar(x - width/2, market_segment_pct, width, label = 'Market Distribution')\n",
    "\n",
    "# Add some text for labels, title and custom x-axis tick labels, etc.\n",
    "ax.set_ylabel('Percent of canceled/not canceled bookings')\n",
    "ax.set_title('Customer Channels')\n",
    "ax.set_xticks(x)\n",
    "ax.set_xticklabels(labels)\n",
    "ax.legend(fontsize = 14)\n",
    "\n",
    "# Label bar height with autolabel\n",
    "autolabel(ms_canceled)\n",
    "autolabel(ms_not_canceled)\n",
    "\n",
    "fig.tight_layout()\n",
    "\n",
    "plt.show()"
   ]
  },
  {
   "cell_type": "markdown",
   "metadata": {},
   "source": [
    "> The most common means of booking is through an online TA, with over 47% of customers going through this channel. Online TA's do account for almost half of cancellations over the three year period the data accounts for. Group bookings also stand out for booking cancellations, with only 17% of bookings originating from groups while accounting for almost 30% of overall cancellations. Direct bookings stand out for their relatively low cancellation rate. They contribute only 4.4% of cancellations, this being about a 15% cancellation rate among direct bookings. This compares starkly to online TA bookings, where 37% of those bookings are canceled. "
   ]
  },
  {
   "cell_type": "code",
   "execution_count": 9,
   "metadata": {},
   "outputs": [],
   "source": [
    "# Isolate data by year, eliminating Aviation for continuity between years (Aviation wasn't offered until 2016)\n",
    "hotels_2015 = hotels[(hotels.arrival_date_year  == 2015) & (hotels.market_segment != 'Aviation')]\n",
    "hotels_2016 = hotels[(hotels.arrival_date_year  == 2016) & (hotels.market_segment != 'Aviation')]\n",
    "hotels_2017 = hotels[(hotels.arrival_date_year  == 2017) & (hotels.market_segment != 'Aviation')]"
   ]
  },
  {
   "cell_type": "code",
   "execution_count": 10,
   "metadata": {},
   "outputs": [
    {
     "data": {
      "image/png": "[encoded data removed]",
      "text/plain": [
       "<Figure size 720x360 with 1 Axes>"
      ]
     },
     "metadata": {
      "needs_background": "light"
     },
     "output_type": "display_data"
    }
   ],
   "source": [
    "# Market segment breakdown by year\n",
    "ms_2015 = round(100*hotels_2015.market_segment.value_counts(normalize = True, sort=False).sort_index(), 1)\n",
    "ms_2016 = round(100*hotels_2016.market_segment.value_counts(normalize = True, sort=False).sort_index(), 1)\n",
    "ms_2017 = round(100*hotels_2017.market_segment.value_counts(normalize = True, sort=False).sort_index(), 1)\n",
    "\n",
    "# plot hist per week for arrival_date_week_number\n",
    "labels = list(ms_2015.index)\n",
    "x = np.arange(len(labels))  # the label locations\n",
    "width = 0.25  # the width of the bars\n",
    "\n",
    "fig, ax = plt.subplots(figsize=(10, 5))\n",
    "year_2015 = ax.bar(x - width, ms_2015, width, label='2015')\n",
    "year_2016 = ax.bar(x, ms_2016, width, label='2016')\n",
    "year_2017 = ax.bar(x + width, ms_2017, width, label='2017')\n",
    "\n",
    "# Add some text for labels, title and custom x-axis tick labels, etc.\n",
    "ax.set_ylabel('Bookings')\n",
    "ax.set_title('Customer Channel Distribution over time')\n",
    "ax.set_xticks(x)\n",
    "ax.set_xticklabels(labels)\n",
    "ax.legend()\n",
    "\n",
    "# Label bar height with autolabel\n",
    "autolabel(year_2015)\n",
    "autolabel(year_2016)\n",
    "autolabel(year_2017)\n",
    "\n",
    "fig.tight_layout()\n",
    "\n",
    "plt.show()"
   ]
  },
  {
   "cell_type": "markdown",
   "metadata": {},
   "source": [
    "> In the 2015 group, offline and online TA's made up a majority of bookings, with a little over a quarter of bookings distributed to each in that year. By 2016, almost half of bookings occured online, with a little over a third contributed by groups and offline TA's. By 2017, online TA's gained a clear advantage over the travel industry between these hotels, making up about 56% of bookings. Direct, corporate and complimentary bookings saw little to no change over the same time period."
   ]
  },
  {
   "cell_type": "code",
   "execution_count": 11,
   "metadata": {},
   "outputs": [],
   "source": [
    "# Cancellations by year based on market segment\n",
    "canceled = hotels[(hotels.market_segment != 'Aviation')\n",
    "                          & (hotels.is_canceled == 1)]\n",
    "canceled_2015 = round(100*canceled[(canceled.arrival_date_year  == 2015)]\\\n",
    "                                .market_segment\\\n",
    "                                .value_counts(normalize = True, sort=False)\\\n",
    "                                .sort_index(), 1)\n",
    "\n",
    "canceled_2016 = round(100*canceled[(canceled.arrival_date_year  == 2016)]\\\n",
    "                                .market_segment\\\n",
    "                                .value_counts(normalize = True, sort=False)\\\n",
    "                                .sort_index(), 1)\n",
    "\n",
    "canceled_2017 = round(100*canceled[(canceled.arrival_date_year  == 2017)]\\\n",
    "                                .market_segment\\\n",
    "                                .value_counts(normalize = True, sort=False)\\\n",
    "                                .sort_index(), 1)"
   ]
  },
  {
   "cell_type": "code",
   "execution_count": 12,
   "metadata": {},
   "outputs": [
    {
     "data": {
      "image/png": "[encoded data removed]",
      "text/plain": [
       "<Figure size 720x360 with 1 Axes>"
      ]
     },
     "metadata": {
      "needs_background": "light"
     },
     "output_type": "display_data"
    }
   ],
   "source": [
    "# plot hist per week for arrival_date_week_number\n",
    "labels = list(canceled_2015.index)\n",
    "x = np.arange(len(labels))  # the label locations\n",
    "width = 0.25  # the width of the bars\n",
    "\n",
    "fig, ax = plt.subplots(figsize=(10, 5))\n",
    "year_2015 = ax.bar(x - width, canceled_2015, width, label='2015')\n",
    "year_2016 = ax.bar(x, canceled_2016, width, label='2016')\n",
    "year_2017 = ax.bar(x + width, canceled_2017, width, label='2017')\n",
    "\n",
    "# Add some text for labels, title and custom x-axis tick labels, etc.\n",
    "ax.set_ylabel('Bookings')\n",
    "ax.set_title('Cancelation Distribution over time')\n",
    "ax.set_xticks(x)\n",
    "ax.set_xticklabels(labels)\n",
    "ax.legend(fontsize=14)\n",
    "\n",
    "# Label bar height with autolabel\n",
    "autolabel(year_2015)\n",
    "autolabel(year_2016)\n",
    "autolabel(year_2017)\n",
    "\n",
    "\n",
    "fig.tight_layout()\n",
    "\n",
    "plt.show()"
   ]
  },
  {
   "cell_type": "markdown",
   "metadata": {},
   "source": [
    "> Groups were the major contributors to cancellations in 2015, with 47% of cancellations originating from this channel. However there was a clear drop in group cancellations from 2015 to 2016, with a sharp increase from online TA's in the same time period. By 2017, more than half of cancellations took place online. "
   ]
  },
  {
   "cell_type": "markdown",
   "metadata": {},
   "source": [
    "#### In 2015…\n",
    "\n",
    "  - 28% of bookings were through an online travel agency and 27% of those were cancelled.\n",
    "  - 37% of all bookings were cancelled.\n",
    "  - 20% of cancellations were from online travel agency bookings. \n",
    "\n",
    "#### In 2016…\n",
    "\n",
    "  - 49% of bookings were through an online travel agency and 36% of those were cancelled.\n",
    "  - 36% of all bookings were cancelled.\n",
    "  - 48% of cancellations were from online travel agency bookings.\n",
    "\n",
    "#### In 2017…\n",
    "\n",
    "  - 56% of bookings were through an online travel agency and 41% of those were cancelled.\n",
    "  - 39% of all bookings were cancelled.\n",
    "  - 59% of cancellations were from online travel agency bookings.\n",
    "\n",
    "Bookings from online travel agencies increased from 28% to 56% from 2015 to 2017. During that time, cancellations increased from 37% to 39%, with cancellations from OTA's increasing from 27% to 41%."
   ]
  },
  {
   "cell_type": "code",
   "execution_count": 14,
   "metadata": {},
   "outputs": [],
   "source": [
    "# list of data by year\n",
    "data = [hotels_2015, hotels_2016, hotels_2017]\n",
    "loc = ['City Hotel', 'Resort Hotel']\n",
    "pct = []\n",
    "\n",
    "# bookings by hotel for each year\n",
    "for hotel in data:\n",
    "    ms = hotel.groupby(['hotel', 'market_segment']).agg({'market_segment': 'count'})\n",
    "    ms_pct = ms.groupby(level=0).apply(lambda x: 100 * x / float(x.sum()))\n",
    "    for place in loc:\n",
    "        pct.append(round(ms_pct.loc[place].loc['Online TA'].values[0], 1))"
   ]
  },
  {
   "cell_type": "code",
   "execution_count": 15,
   "metadata": {},
   "outputs": [
    {
     "data": {
      "text/plain": [
       "[22.4, 37.3, 51.8, 42.8, 58.3, 50.6]"
      ]
     },
     "execution_count": 15,
     "metadata": {},
     "output_type": "execute_result"
    }
   ],
   "source": [
    "pct"
   ]
  },
  {
   "cell_type": "markdown",
   "metadata": {},
   "source": [
    "Percentage of bookings from OTAs for city hotel:\n",
    "  - 22.4% in 2015.\n",
    "  - 51.8% in 2016.\n",
    "  - 58.3% in 2017.\n",
    "\n",
    "Percentage of bookings from OTAs for resort hotel: \n",
    "  - 37.3% in 2015.\n",
    "  - 42.8% in 2016.\n",
    "  - 50.6% in 2017.\n",
    "  \n",
    "In 2015, the city hotel received 22% of it's bookings through OTAs while the resort hotel received 37%. By 2017, city hotel recieved 58% of its bookings through an online TA with the resort hotel increasing their portion to 51%. It is clear that both increased significantly over time with the city hotel taking a major leap from 2015 to 2016, increasing from 22% to 52%."
   ]
  },
  {
   "cell_type": "markdown",
   "metadata": {},
   "source": [
    "### Does lead time correlate to cancellations?"
   ]
  },
  {
   "cell_type": "code",
   "execution_count": 16,
   "metadata": {},
   "outputs": [
    {
     "data": {
      "image/png": "[encoded data removed]",
      "text/plain": [
       "<Figure size 720x288 with 2 Axes>"
      ]
     },
     "metadata": {
      "needs_background": "light"
     },
     "output_type": "display_data"
    }
   ],
   "source": [
    "# canceled and not canceled bookings\n",
    "canceled = hotels[hotels.is_canceled == True]\n",
    "not_canceled = hotels[hotels.is_canceled == False]\n",
    "\n",
    "# outlier labels\n",
    "red_point = dict(markerfacecolor='r', marker='p')\n",
    "\n",
    "# boxplot of lead time for canceled and not canceled bookings\n",
    "fig, ax = plt.subplots(2, figsize=(10, 4), sharex=True, sharey=True, gridspec_kw={'hspace': 0})\n",
    "ax[0].boxplot(canceled.lead_time, vert=False, flierprops=red_point)\n",
    "ax[1].boxplot(not_canceled.lead_time, vert=False, flierprops=red_point)\n",
    "\n",
    "ax[0].set_title('Canceled')\n",
    "ax[1].set_title('Not Canceled')\n",
    "ax[1].set(xlabel='Lead Time')\n",
    "fig.tight_layout()\n",
    "plt.show()"
   ]
  },
  {
   "cell_type": "code",
   "execution_count": 17,
   "metadata": {},
   "outputs": [],
   "source": [
    "# median lead time for canceled and not canceled bookings\n",
    "median_lead_canc = np.median(canceled.lead_time)\n",
    "median_lead_not_canc = np.median(not_canceled.lead_time)"
   ]
  },
  {
   "cell_type": "code",
   "execution_count": 18,
   "metadata": {},
   "outputs": [
    {
     "data": {
      "text/plain": [
       "(113.0, 45.0)"
      ]
     },
     "execution_count": 18,
     "metadata": {},
     "output_type": "execute_result"
    }
   ],
   "source": [
    "median_lead_canc, median_lead_not_canc"
   ]
  },
  {
   "cell_type": "markdown",
   "metadata": {},
   "source": [
    "  - The median lead time for canceled bookings is 113 days.\n",
    "  - The median lead time for not canceled bookings is 45 days.\n",
    "\n",
    "The average lead time for canceled bookings is 2.5 times greater on average than for those who did not cancel. It may be that people booking far out are looking for better deals, or other options opening up may be more likely given a larger lead time."
   ]
  },
  {
   "cell_type": "markdown",
   "metadata": {},
   "source": [
    "### Do people who book through online travel agencies have larger median lead times?"
   ]
  },
  {
   "cell_type": "code",
   "execution_count": 20,
   "metadata": {},
   "outputs": [
    {
     "data": {
      "image/png": "[encoded data removed]",
      "text/plain": [
       "<Figure size 720x288 with 2 Axes>"
      ]
     },
     "metadata": {
      "needs_background": "light"
     },
     "output_type": "display_data"
    }
   ],
   "source": [
    "# define lead time for ota's and non-ota\n",
    "ta_lead_time = hotels[hotels.market_segment == 'Online TA']['lead_time']\n",
    "not_ta_lead_time = hotels[hotels.market_segment != 'Online TA']['lead_time']\n",
    "\n",
    "# plot boxplot of lead time for canceled and non-canceled guests\n",
    "fig, ax = plt.subplots(2, figsize=(10, 4), sharex=True, sharey=True, gridspec_kw={'hspace': 0})\n",
    "ax[0].boxplot(ta_lead_time, vert=False, flierprops=red_point)\n",
    "ax[1].boxplot(not_ta_lead_time, vert=False, flierprops=red_point)\n",
    "\n",
    "ax[0].set_title('OTA Lead Time')\n",
    "ax[1].set_title(\"Non-OTA Lead Time\")\n",
    "ax[1].set(xlabel = 'Lead Time')\n",
    "fig.tight_layout()\n",
    "plt.show()"
   ]
  },
  {
   "cell_type": "code",
   "execution_count": 23,
   "metadata": {},
   "outputs": [],
   "source": [
    "median_lead_ota = np.median(hotels[hotels.market_segment == 'Online TA']['lead_time'])\n",
    "median_lead_not_ota = np.median(hotels[hotels.market_segment != 'Online TA']['lead_time'])"
   ]
  },
  {
   "cell_type": "code",
   "execution_count": 24,
   "metadata": {},
   "outputs": [
    {
     "data": {
      "text/plain": [
       "(58.0, 85.0)"
      ]
     },
     "execution_count": 24,
     "metadata": {},
     "output_type": "execute_result"
    }
   ],
   "source": [
    "median_lead_ota, median_lead_not_ota"
   ]
  },
  {
   "cell_type": "markdown",
   "metadata": {},
   "source": [
    "  - The median lead time for OTA bookings was 58 days\n",
    "  - The median lead time for all other methods of booking was 85 days\n",
    "\n",
    "Online travel agencies do not have a higher lead time on average, there may be another area here to explore. Lead time and bookings from OTA's seem to correlate to higher rates of cancellation."
   ]
  },
  {
   "cell_type": "markdown",
   "metadata": {},
   "source": [
    "### What trends are there in the distribution of company and travel agent bookings?"
   ]
  },
  {
   "cell_type": "code",
   "execution_count": 25,
   "metadata": {},
   "outputs": [
    {
     "data": {
      "image/png": "[encoded data removed]",
      "text/plain": [
       "<Figure size 864x432 with 1 Axes>"
      ]
     },
     "metadata": {
      "needs_background": "light"
     },
     "output_type": "display_data"
    }
   ],
   "source": [
    "fig, ax = plt.subplots(figsize=(12, 6))\n",
    "# top 6 companies\n",
    "top_n = hotels.company.value_counts().index[:6]\n",
    "# assign any company falling outside of the top 6 to \"other\"\n",
    "(hotels.assign(company=hotels.company.where(hotels.company.isin(top_n), \"Other\" ))\n",
    ".company.value_counts().plot.bar(ax=ax))\n",
    "ax.set_xlabel('Companies')\n",
    "ax.set_ylabel('Count')\n",
    "plt.show()"
   ]
  },
  {
   "cell_type": "markdown",
   "metadata": {},
   "source": [
    "> There are over 300 different companies but a vast majority of visitors do not go through them for booking. The '0' company represents guests who did not go through a company. "
   ]
  },
  {
   "cell_type": "code",
   "execution_count": 26,
   "metadata": {},
   "outputs": [
    {
     "data": {
      "image/png": "[encoded data removed]",
      "text/plain": [
       "<Figure size 720x432 with 1 Axes>"
      ]
     },
     "metadata": {
      "needs_background": "light"
     },
     "output_type": "display_data"
    }
   ],
   "source": [
    "fig, ax = plt.subplots(figsize=(10, 6))\n",
    "# top 20 agents\n",
    "top_n = hotels.agent.value_counts().index[:20]\n",
    "# assign agents outside of top 20 to 'other'\n",
    "(hotels.assign(agent=hotels.agent.where(hotels.agent.isin(top_n), \"Other\" ))\n",
    ".agent.value_counts().plot.bar(ax=ax))\n",
    "ax.set_xlabel('Agents')\n",
    "ax.set_ylabel('Count')\n",
    "plt.show()"
   ]
  },
  {
   "cell_type": "markdown",
   "metadata": {},
   "source": [
    "> The story seems to be different for travel agents, a majority use this channel with most going through agent '9.0'."
   ]
  },
  {
   "cell_type": "markdown",
   "metadata": {},
   "source": [
    "### How are cancellations distributed throughout the year?"
   ]
  },
  {
   "cell_type": "code",
   "execution_count": 27,
   "metadata": {},
   "outputs": [
    {
     "data": {
      "image/png": "[encoded data removed]",
      "text/plain": [
       "<Figure size 437.625x360 with 1 Axes>"
      ]
     },
     "metadata": {
      "needs_background": "light"
     },
     "output_type": "display_data"
    }
   ],
   "source": [
    "# mask for accessing data in plot function\n",
    "mask = hotels.hotel.isin(['City Hotel', 'Resort Hotel'])\n",
    "g = sns.catplot(x=\"hotel\",\\\n",
    "                y=\"arrival_date_week_number\", \n",
    "                data=hotels[mask], \n",
    "                kind=\"box\", \n",
    "                hue = \"is_canceled\")\n",
    "plt.show()"
   ]
  },
  {
   "cell_type": "markdown",
   "metadata": {},
   "source": [
    "> Resort Hotel shows a higher concentration of cancelations during the summer months, while the City Hotel shows a closely matching correlation between bookings and canceled bookings, both uniformly distributed throughout the year."
   ]
  },
  {
   "cell_type": "markdown",
   "metadata": {},
   "source": [
    "### Are guests with kids more likely to cancel? "
   ]
  },
  {
   "cell_type": "code",
   "execution_count": 29,
   "metadata": {},
   "outputs": [],
   "source": [
    "# Calculate number of guests with babies who canceled and who did not cancel\n",
    "babies = hotels.loc[(hotels.babies != 0)]['babies'].count()\n",
    "not_canceled_babies = hotels.loc[(hotels.is_canceled == 0) & (hotels.babies != 0)]['babies'].count()\n",
    "\n",
    "# Do the same calculation for families with children and with no children\n",
    "children = hotels.loc[(hotels.children != 0)]['children'].count()\n",
    "not_canceled_children = hotels.loc[(hotels.is_canceled == 0) & (hotels.children != 0)]['children'].count()\n",
    "\n",
    "# No children\n",
    "conditions = (hotels.children == 0) & (hotels.babies == 0)\n",
    "no_kids = hotels.loc[conditions]['adults'].count()\n",
    "not_canceled_no_kids = hotels.loc[(hotels.is_canceled == 0) & (conditions)]['adults'].count()"
   ]
  },
  {
   "cell_type": "code",
   "execution_count": 30,
   "metadata": {},
   "outputs": [],
   "source": [
    "# percentage of families who did not cancel\n",
    "perc_babies = str(round(not_canceled_babies/babies, 2)*100) + '%'\n",
    "perc_children = str(round(not_canceled_children/children, 2)*100) + '%'\n",
    "perc_no_kids = str(round(not_canceled_no_kids/no_kids, 2)*100) + '%'"
   ]
  },
  {
   "cell_type": "code",
   "execution_count": 31,
   "metadata": {},
   "outputs": [],
   "source": [
    "# set data frame with results if kids breakdown\n",
    "\n",
    "d1 = {'guest_type': ['babies', 'children', 'without_children'], \\\n",
    "     'not_cancled': [not_canceled_babies, not_canceled_children, not_canceled_no_kids],\\\n",
    "    'percent': [perc_babies, perc_children, perc_no_kids]}\n",
    "\n",
    "d = {'guest_type': ['Babies', 'Children', 'No kids'], \\\n",
    "    'percent': [perc_babies, perc_children, perc_no_kids]}\n",
    "\n",
    "pie_data = pd.DataFrame(data=d)"
   ]
  },
  {
   "cell_type": "code",
   "execution_count": 32,
   "metadata": {},
   "outputs": [],
   "source": [
    "import re\n",
    "\n",
    "def donut_plot(data, plotnumber):\n",
    "    ''' Create donut plot with data and plot number for multiple plots'''\n",
    "    startingRadius = 0.7 + (0.3* (len(data)-1))\n",
    "    for index, row in data.iterrows():\n",
    "        scenario = row[\"guest_type\"]\n",
    "        percentage = row[\"percent\"]\n",
    "        textLabel = scenario\n",
    "        \n",
    "        percentage = int(re.search(r'\\d+', percentage).group())\n",
    "        remainingPie = 100 - percentage\n",
    "        \n",
    "        donut_sizes = [remainingPie, percentage]\n",
    "        \n",
    "        plt.text(0.01, startingRadius - 0.25, textLabel, ha='right', va='bottom', fontsize = 12, \n",
    "        fontweight = 'bold')\n",
    "        \n",
    "        plt.pie(donut_sizes, radius=startingRadius, startangle=0, colors=['lightgray', 'tomato'],\n",
    "                wedgeprops={\"edgecolor\": \"white\", 'linewidth': 1.5})\n",
    "        \n",
    "        startingRadius-=0.3\n",
    "\n",
    "    # equal ensures pie chart is drawn as a circle (equal aspect ratio)\n",
    "    plt.axis('equal')\n",
    "\n",
    "    # create circle and place onto pie chart\n",
    "    circle = plt.Circle(xy=(0, 0), radius=0.35, facecolor='white')\n",
    "    plt.gca().add_artist(circle)\n",
    "    plt.show()"
   ]
  },
  {
   "cell_type": "code",
   "execution_count": 33,
   "metadata": {},
   "outputs": [
    {
     "data": {
      "image/png": "[encoded data removed]",
      "text/plain": [
       "<Figure size 432x288 with 1 Axes>"
      ]
     },
     "metadata": {},
     "output_type": "display_data"
    }
   ],
   "source": [
    "# plot the proportion of cancellations based on whether guests had babies, children or none.\n",
    "plt.title('82% of guests with babies \\n did not cancel \\n', fontsize = '18', fontweight = 'bold')\n",
    "donut_plot(pie_data, '1')"
   ]
  },
  {
   "cell_type": "markdown",
   "metadata": {},
   "source": [
    "> Guests with babies followed through with their booking 83% of the time and 86% of guests who stayed with babies had at least one special request. "
   ]
  },
  {
   "cell_type": "markdown",
   "metadata": {},
   "source": [
    "### How do the hotel stays of guests with/without children vary throughout the year? Is this different between hotels?"
   ]
  },
  {
   "cell_type": "code",
   "execution_count": 35,
   "metadata": {},
   "outputs": [
    {
     "data": {
      "image/png": "[encoded data removed]",
      "text/plain": [
       "<Figure size 640x480 with 2 Axes>"
      ]
     },
     "metadata": {},
     "output_type": "display_data"
    },
    {
     "data": {
      "text/plain": [
       "<ggplot: (8774724149049)>"
      ]
     },
     "execution_count": 35,
     "metadata": {},
     "output_type": "execute_result"
    }
   ],
   "source": [
    "# Map months of the year to numeric values to create arrival date column for exploration\n",
    "d = {'July':7, 'August':8, 'September':9, 'October':10, 'November':11, 'December':12, 'January':1, 'February':2, 'March':3, 'April':4, 'May': 5, 'June':6}\n",
    "hotels.arrival_date_month = hotels.arrival_date_month.map(d)\n",
    "\n",
    "#Recreated plot from tidy tuesday \n",
    "\n",
    "df = (\n",
    "      hotels\n",
    "          .groupby(['hotel', 'arrival_date_month', 'kids'])\n",
    "          .size()\n",
    "          .groupby(level=[0,2])\n",
    "          .apply(lambda x: x/x.sum())\n",
    "          .reset_index()\n",
    "      )\n",
    "\n",
    "df.rename(columns = {0:'count'}, inplace=True)\n",
    "\n",
    "from plotnine import *\n",
    "\n",
    "ggplot(df, aes(x = 'arrival_date_month', y = 'count', fill = 'kids')) + \\\n",
    "    geom_col(position='dodge') + facet_wrap(['hotel'], nrow = 2) + \\\n",
    "    ggtitle(\"Percent Distribution of Guests with and without Kids\")"
   ]
  },
  {
   "cell_type": "markdown",
   "metadata": {},
   "source": [
    "> Between both hotels, a majority of guests come without babies or children. Out of the year however, it is easy to predict when families will arrive, between both hotels families typically arrived in the summer months. This could be an opportunity to explore for each hotel."
   ]
  },
  {
   "cell_type": "markdown",
   "metadata": {},
   "source": [
    "### How does the average daily rate change with family size?"
   ]
  },
  {
   "cell_type": "code",
   "execution_count": 36,
   "metadata": {},
   "outputs": [
    {
     "name": "stderr",
     "output_type": "stream",
     "text": [
      "/Users/mattmerrill/opt/anaconda3/lib/python3.7/site-packages/ipykernel_launcher.py:3: SettingWithCopyWarning: \n",
      "A value is trying to be set on a copy of a slice from a DataFrame.\n",
      "Try using .loc[row_indexer,col_indexer] = value instead\n",
      "\n",
      "See the caveats in the documentation: http://pandas.pydata.org/pandas-docs/stable/user_guide/indexing.html#returning-a-view-versus-a-copy\n",
      "  This is separate from the ipykernel package so we can avoid doing imports until\n"
     ]
    }
   ],
   "source": [
    "kids_condition = (hotels['children'] !=0) | (hotels['babies'] != 0)\n",
    "kids_per_guest = hotels[['hotel','adr','adults', 'babies', 'children']]\n",
    "kids_per_guest['kids'] = kids_per_guest['babies'] + kids_per_guest['children']\n",
    "\n",
    "# Filter out guests with more than 3 kids to eliminate outliers.\n",
    "kids_per_guest = kids_per_guest[kids_per_guest['kids'] <= 3]"
   ]
  },
  {
   "cell_type": "code",
   "execution_count": 37,
   "metadata": {},
   "outputs": [
    {
     "data": {
      "image/png": "[encoded data removed]",
      "text/plain": [
       "<Figure size 402.375x360 with 1 Axes>"
      ]
     },
     "metadata": {
      "needs_background": "light"
     },
     "output_type": "display_data"
    }
   ],
   "source": [
    "# plot average daily rate based on number of kids (babies and children combined) without adr outliers\n",
    "g = sns.catplot(x=\"hotel\",\n",
    "y=\"adr\", data=kids_per_guest, kind=\"box\", hue = \"kids\", showfliers = False)\n",
    "plt.show()"
   ]
  },
  {
   "cell_type": "markdown",
   "metadata": {},
   "source": [
    "> The average revenue increases on average as family size increases for both hotels."
   ]
  },
  {
   "cell_type": "markdown",
   "metadata": {},
   "source": [
    "## Summary of Observations"
   ]
  },
  {
   "cell_type": "markdown",
   "metadata": {},
   "source": [
    "After exploring the data, it is clear that my hypothesis has been confirmed. The use of online travel agencies and cancelations increased, reaching a peak in the last year of the data with 56% of guests booking through an OTA and 41% of all guests canceling (up from 28% and 20%, respectively). However, there were some surprising insights gained as well.\n",
    "\n",
    "- Customers who cancel typically have a longer lead time. Although most cancellations come from customers who book through an OTA, their average lead time is shorter than for other means of booking. This means lead time may be another likely factor in determining cancellations.\n",
    "- Guests who booked with at least one baby were more likely to follow through with the booking and were more likely to require accommodations.\n",
    "- The average daily rate increases with each added child to the itinerary.\n",
    "- Guests with kids represent a small portion of guests for both hotels, suggesting an untapped market.\n",
    "\n",
    "In conclusion, customers who book through an online travel agency, and those who book with a larger lead time are more likely to cancel. It seems that the trends in customer preference for online booking are directly correlated with an increase in cancellations. This leads me to believe that the market is seeking the flexibility and freedoms that come from risk free booking with OTAs.\n",
    "There are however a number of areas to continue exploring and confirm through statistical analysis. How confident can I be in this conclusion? The sample size for families is quite small, could their low rate of cancellation be due to the small sample size? How confident can I be in identifying lead time as a major factor in deciding cancellations?"
   ]
  },
  {
   "cell_type": "code",
   "execution_count": null,
   "metadata": {},
   "outputs": [],
   "source": []
  }
 ],
 "metadata": {
  "kernelspec": {
   "display_name": "Python 3",
   "language": "python",
   "name": "python3"
  },
  "language_info": {
   "codemirror_mode": {
    "name": "ipython",
    "version": 3
   },
   "file_extension": ".py",
   "mimetype": "text/x-python",
   "name": "python",
   "nbconvert_exporter": "python",
   "pygments_lexer": "ipython3",
   "version": "3.7.4"
  }
 },
 "nbformat": 4,
 "nbformat_minor": 2
}
