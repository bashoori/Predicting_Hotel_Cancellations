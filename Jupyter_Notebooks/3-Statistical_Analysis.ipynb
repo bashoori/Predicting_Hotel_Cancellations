{
 "cells": [
  {
   "cell_type": "markdown",
   "metadata": {},
   "source": [
    "## Statistical Analysis"
   ]
  },
  {
   "cell_type": "markdown",
   "metadata": {},
   "source": [
    "Exploratory analysis revealed a number of potential predicting factors to determine if a guest will cancel. We can see that guests are more likely to cancel if they are from an OTA or book with a larger lead time, and guests with babies are far less likely to cancel. We want to now consider what other variables may contribute to cancellations, such as 'agent', 'distribution_channel', 'is_repeated_guest', 'country', 'arrival_date_month', ‘kids’ and 'hotel'. Since these variables are categorical in nature, my approach will utilize the chi-squared test for inferential analysis.\n",
    "To perform the chi-squared test, we create a contingency table of observed values and calculate the expected frequencies assuming the null hypothesis. Following this we calculate the chi-squared statistic with the following formula:\n",
    "\n",
    "$$\\chi^2 = \\sum_\\ \\frac{(O - E)^2}{E}$$\n",
    "Once this statistic is calculated, we compare it to the critical values of the chi-squared distribution, calculated with the degrees of freedom and the certainty level (we use the 95% convention). Assuming the null hypothesis is true, we can reject it if our test statistic is greater than our critical value. Below is an analysis of each of the identified variables with the result."
   ]
  },
  {
   "cell_type": "code",
   "execution_count": 1,
   "metadata": {},
   "outputs": [],
   "source": [
    "import pandas as pd\n",
    "import numpy as np\n",
    "import matplotlib.pyplot as plt\n",
    "import os\n",
    "\n",
    "# import appropriate statistical modules\n",
    "from scipy.stats import chisquare\n",
    "from scipy.stats import chi2\n",
    "from scipy.stats import chi2_contingency\n",
    "from scipy.stats import norm\n",
    "from scipy.stats import t\n",
    "from numpy.random import seed\n",
    "from scipy import stats"
   ]
  },
  {
   "cell_type": "code",
   "execution_count": 2,
   "metadata": {},
   "outputs": [],
   "source": [
    "hotels = pd.read_csv('data/hotels_clean.csv', index_col=0)"
   ]
  },
  {
   "cell_type": "code",
   "execution_count": 3,
   "metadata": {},
   "outputs": [],
   "source": [
    "# Map months of the year to numeric values to create arrival date column for exploration\n",
    "d = {'July':7, 'August':8, 'September':9, 'October':10, 'November':11, 'December':12, 'January':1, 'February':2, 'March':3, 'April':4, 'May': 5, 'June':6}\n",
    "hotels.arrival_date_month = hotels.arrival_date_month.map(d)"
   ]
  },
  {
   "cell_type": "markdown",
   "metadata": {},
   "source": [
    "### Analysis of Categorical Variables"
   ]
  },
  {
   "cell_type": "code",
   "execution_count": 4,
   "metadata": {},
   "outputs": [],
   "source": [
    "# define function to output chi-squared test and results\n",
    "def chi2results(var1, var2, prob):\n",
    "    observed = pd.crosstab(var1, var2)\n",
    "    chi_square, p_val, dof, expected = chi2_contingency(observed)\n",
    "    critical = chi2.ppf(prob, dof)\n",
    "    \n",
    "    if abs(chi_square) >= critical:\n",
    "        result = 'Dependent (reject H0)'\n",
    "    else:\n",
    "        result = 'Independent (fail to reject H0)'\n",
    "    alpha = 1.0 - prob\n",
    "    \n",
    "    return chi_square, critical, p_val, dof, alpha, result"
   ]
  },
  {
   "cell_type": "code",
   "execution_count": 5,
   "metadata": {},
   "outputs": [
    {
     "name": "stdout",
     "output_type": "stream",
     "text": [
      "market_segment  Aviation  Complementary  Corporate  Direct  Groups  \\\n",
      "is_canceled                                                          \n",
      "0                    185            646       4302   10672    7714   \n",
      "1                     52             97        992    1934   12097   \n",
      "\n",
      "market_segment  Offline TA/TO  Online TA  \n",
      "is_canceled                               \n",
      "0                       15908      35737  \n",
      "1                        8311      20739  \n"
     ]
    }
   ],
   "source": [
    "# two way table of market segment vs cancellations\n",
    "observed = pd.crosstab(hotels.is_canceled, hotels.market_segment)\n",
    "print(observed)"
   ]
  },
  {
   "cell_type": "markdown",
   "metadata": {},
   "source": [
    "> The table of observed values for market segment is displayed above. If we want to determine statistical significance, we need to compare expected cancellation rates to the observed. Our assumption (null hypothesis) is that there is no relationship between each categorical feature and the likelihood of cancellation."
   ]
  },
  {
   "cell_type": "code",
   "execution_count": 6,
   "metadata": {},
   "outputs": [
    {
     "data": {
      "text/html": [
       "<div>\n",
       "<style scoped>\n",
       "    .dataframe tbody tr th:only-of-type {\n",
       "        vertical-align: middle;\n",
       "    }\n",
       "\n",
       "    .dataframe tbody tr th {\n",
       "        vertical-align: top;\n",
       "    }\n",
       "\n",
       "    .dataframe thead th {\n",
       "        text-align: right;\n",
       "    }\n",
       "</style>\n",
       "<table border=\"1\" class=\"dataframe\">\n",
       "  <thead>\n",
       "    <tr style=\"text-align: right;\">\n",
       "      <th></th>\n",
       "      <th>p_val</th>\n",
       "      <th>result</th>\n",
       "    </tr>\n",
       "  </thead>\n",
       "  <tbody>\n",
       "    <tr>\n",
       "      <td>hotel</td>\n",
       "      <td>0</td>\n",
       "      <td>Dependent (reject H0)</td>\n",
       "    </tr>\n",
       "    <tr>\n",
       "      <td>country</td>\n",
       "      <td>0</td>\n",
       "      <td>Dependent (reject H0)</td>\n",
       "    </tr>\n",
       "    <tr>\n",
       "      <td>market_segment</td>\n",
       "      <td>0</td>\n",
       "      <td>Dependent (reject H0)</td>\n",
       "    </tr>\n",
       "    <tr>\n",
       "      <td>distribution_channel</td>\n",
       "      <td>0</td>\n",
       "      <td>Dependent (reject H0)</td>\n",
       "    </tr>\n",
       "    <tr>\n",
       "      <td>reserved_room_type</td>\n",
       "      <td>9.28632e-134</td>\n",
       "      <td>Dependent (reject H0)</td>\n",
       "    </tr>\n",
       "    <tr>\n",
       "      <td>customer_type</td>\n",
       "      <td>0</td>\n",
       "      <td>Dependent (reject H0)</td>\n",
       "    </tr>\n",
       "    <tr>\n",
       "      <td>kids</td>\n",
       "      <td>1.15309e-05</td>\n",
       "      <td>Dependent (reject H0)</td>\n",
       "    </tr>\n",
       "  </tbody>\n",
       "</table>\n",
       "</div>"
      ],
      "text/plain": [
       "                             p_val                 result\n",
       "hotel                            0  Dependent (reject H0)\n",
       "country                          0  Dependent (reject H0)\n",
       "market_segment                   0  Dependent (reject H0)\n",
       "distribution_channel             0  Dependent (reject H0)\n",
       "reserved_room_type    9.28632e-134  Dependent (reject H0)\n",
       "customer_type                    0  Dependent (reject H0)\n",
       "kids                   1.15309e-05  Dependent (reject H0)"
      ]
     },
     "execution_count": 6,
     "metadata": {},
     "output_type": "execute_result"
    }
   ],
   "source": [
    "# set columns to test\n",
    "cat_cols = list(hotels.describe(exclude=[np.number]).columns.drop(['reservation_status', 'reservation_status_date', \n",
    "                                                                   'deposit_type', 'assigned_room_type', 'meal']))\n",
    "test_col = 'is_canceled'\n",
    "\n",
    "# Creating an empty Dataframe with column names only\n",
    "chi_square_results = pd.DataFrame(columns=['chi_square', 'critical_val', 'p_val', \\\n",
    "                                            'dof', 'alpha', 'result'], index = cat_cols)\n",
    "for col in cat_cols:\n",
    "    res = chi2results(hotels[test_col], hotels[col], prob = 0.95)\n",
    "    chi_square_results.loc[col] = [res[0], res[1], res[2], res[3], res[4], res[5]]\n",
    "\n",
    "chi_square_results[['p_val', 'result']]"
   ]
  },
  {
   "cell_type": "markdown",
   "metadata": {},
   "source": [
    "> The null hypothesis is rejected for each of the tested columns, suggesting an association with cancellations for each variable. The conclusions here only confirm that there is a relationship, whether or not numerous factors combined have a significant influence on cancellations will be determined by our machine learning model."
   ]
  },
  {
   "cell_type": "code",
   "execution_count": 7,
   "metadata": {},
   "outputs": [],
   "source": [
    "chi_square_results.to_csv(r'/Users/mattmerrill/Springboard/Capstone/Predicting_Hotel_Cancellations/Jupyter_Notebooks/data/chi_square_results.csv', index=True)"
   ]
  },
  {
   "cell_type": "markdown",
   "metadata": {},
   "source": [
    "### Analysis of Numerical Variables"
   ]
  },
  {
   "cell_type": "markdown",
   "metadata": {},
   "source": [
    "To perform statistical analysis on numerical predictors we need to determine if the observed difference between canceled and non-canceled bookings is significantly different. To do this we will utilize the t-test for statistical significance. We will calculate the t-statistic for each feature using a key metric, such as the average lead time, and determine the corresponding p-value which helps determine how likely an event is to occur under the null hypothesis. If the p-value is less than the 5% threshold for our 95% confidence interval we can consider this variable statistically significant in determining cancellations. "
   ]
  },
  {
   "cell_type": "markdown",
   "metadata": {},
   "source": [
    "#### Determining significance for average daily rate"
   ]
  },
  {
   "cell_type": "code",
   "execution_count": 15,
   "metadata": {},
   "outputs": [
    {
     "data": {
      "image/png": "[encoded data removed]",
      "text/plain": [
       "<Figure size 864x432 with 2 Axes>"
      ]
     },
     "metadata": {
      "needs_background": "light"
     },
     "output_type": "display_data"
    }
   ],
   "source": [
    "mean_canceled = np.mean(hotels[hotels['is_canceled'] == 1]['adr'])\n",
    "std_canceled = np.std(hotels[hotels['is_canceled'] == 1]['adr'], ddof = 1)\n",
    "\n",
    "mean = np.mean(hotels[hotels['is_canceled'] == 0]['adr'])\n",
    "std = np.std(hotels[hotels['is_canceled'] == 0]['adr'], ddof = 1)\n",
    "\n",
    "fig, ax = plt.subplots(2, figsize=(12,6))\n",
    "_ = ax[0].hist(hotels[hotels['is_canceled'] == 1]['adr'], bins = 40, range = (0, 500))\n",
    "_ = ax[1].hist(hotels[hotels['is_canceled'] == 0]['adr'], bins = 40, range = (0, 500))\n",
    "_ = plt.suptitle('Average Daily Rate for Canceled and Non-Canceled Bookings')\n",
    "_ = plt.xlabel('Average Daily Rate (adr)')\n",
    "_ = plt.ylabel('frequency')\n",
    "_ = ax[1].axvline(mean_canceled, color='r')\n",
    "_ = ax[1].axvline(mean_canceled+std_canceled, color='r', linestyle='--')\n",
    "_ = ax[1].axvline(mean_canceled-std_canceled, color='r', linestyle='--')\n",
    "_ = ax[0].axvline(mean, color='r')\n",
    "_ = ax[0].axvline(mean+std, color='r', linestyle='--')\n",
    "_ = ax[0].axvline(mean-std, color='r', linestyle='--')\n",
    "_ = plt.show()"
   ]
  },
  {
   "cell_type": "code",
   "execution_count": 16,
   "metadata": {},
   "outputs": [
    {
     "name": "stdout",
     "output_type": "stream",
     "text": [
      "non-canceled bookings:\n",
      "\n",
      "mean daily rate 99.99\n",
      "standard deviation 49.21\n"
     ]
    }
   ],
   "source": [
    "print(\"non-canceled bookings:\\n\")\n",
    "print('mean daily rate ' + str(round(mean, 2)))\n",
    "print('standard deviation ' + str(round(std, 2)))"
   ]
  },
  {
   "cell_type": "code",
   "execution_count": 17,
   "metadata": {},
   "outputs": [
    {
     "name": "stdout",
     "output_type": "stream",
     "text": [
      "canceled bookings:\n",
      "\n",
      "mean daily rate 104.97\n",
      "standard deviation 52.57\n"
     ]
    }
   ],
   "source": [
    "print(\"canceled bookings:\\n\")\n",
    "print('mean daily rate ' + str(round(mean_canceled, 2)))\n",
    "print('standard deviation ' + str(round(std_canceled, 2)))"
   ]
  },
  {
   "cell_type": "markdown",
   "metadata": {},
   "source": [
    "> The null hypothesis for the average daily rate is that it has no influence on whether or not a booking is likely to be canceled. We will find out the likelihood of observing this outcome under the assumption of the null hypothesis. "
   ]
  },
  {
   "cell_type": "code",
   "execution_count": 10,
   "metadata": {},
   "outputs": [],
   "source": [
    "# Define samples\n",
    "sample0 = hotels[hotels.is_canceled == 1]['adr']\n",
    "sample1 = hotels[hotels.is_canceled == 0]['adr']\n",
    "n_0 = len(sample0)\n",
    "n_1 = len(sample1)\n",
    "# Define mean and standard deviation for each group\n",
    "x_0 = np.mean(sample0)\n",
    "x_1 = np.mean(sample1)\n",
    "s_0 = np.std(sample0, ddof = 1)\n",
    "s_1 = np.std(sample1, ddof = 1)\n",
    "# degrees of freedom\n",
    "df = n_0 + n_1 - 2"
   ]
  },
  {
   "cell_type": "markdown",
   "metadata": {},
   "source": [
    "#### Results of t-test for average daily rate"
   ]
  },
  {
   "cell_type": "code",
   "execution_count": 18,
   "metadata": {},
   "outputs": [
    {
     "name": "stdout",
     "output_type": "stream",
     "text": [
      "Results from statistical analysis of average daily rate:\n",
      "\n",
      "t-statistic: 16.46279565898682\n",
      "p-value: 7.925118757542334e-61\n"
     ]
    }
   ],
   "source": [
    "# calculate t-statistic and p-value\n",
    "t, pval = stats.ttest_ind_from_stats(x_0, s_0, n_0, x_1, s_1, n_1)\n",
    "\n",
    "print(\"Results from statistical analysis of average daily rate:\\n\")\n",
    "print(\"t-statistic: {}\\np-value: {}\".format(t, pval))"
   ]
  },
  {
   "cell_type": "markdown",
   "metadata": {},
   "source": [
    "> A p-value close to zero suggests that the outcome is statistically significant because the liklihood of observing this outcome is ruled as statistically close to zero. Thus we can conclude that the average daily rate is important in determining if a booking will be canceled. Next we will determine the significance of each of the other continuous variables and enter the results in a data frame to be analyzed. The following code summarizes the findings. "
   ]
  },
  {
   "cell_type": "code",
   "execution_count": 19,
   "metadata": {},
   "outputs": [],
   "source": [
    "def significance(col):\n",
    "    ''' this function will return the t-stat and pval of a feature of interest '''\n",
    "    # Define samples\n",
    "    sample0 = hotels[hotels.is_canceled == 1][col]\n",
    "    sample1 = hotels[hotels.is_canceled == 0][col]\n",
    "    n_0 = len(sample0)\n",
    "    n_1 = len(sample1)\n",
    "    \n",
    "    # Define mean and standard deviation for each group\n",
    "    x_0 = np.mean(sample0)\n",
    "    x_1 = np.mean(sample1)\n",
    "    s_0 = np.std(sample0, ddof = 1)\n",
    "    s_1 = np.std(sample1, ddof = 1)\n",
    "    \n",
    "    # degrees of freedom\n",
    "    df = n_0 + n_1 - 2\n",
    "    t, pval = stats.ttest_ind_from_stats(x_0, s_0, n_0, x_1, s_1, n_1)\n",
    "    \n",
    "    if pval <= 0.05:\n",
    "        result = 'Dependent (reject H0)'\n",
    "    else:\n",
    "        result = 'Ind (fail to reject H0)'\n",
    "        \n",
    "    return t, pval, result"
   ]
  },
  {
   "cell_type": "markdown",
   "metadata": {},
   "source": [
    "### Restuls of t-test for all numeric variables"
   ]
  },
  {
   "cell_type": "code",
   "execution_count": 20,
   "metadata": {},
   "outputs": [
    {
     "name": "stdout",
     "output_type": "stream",
     "text": [
      "Statistical results for all numeric variables:\n"
     ]
    },
    {
     "data": {
      "text/html": [
       "<div>\n",
       "<style scoped>\n",
       "    .dataframe tbody tr th:only-of-type {\n",
       "        vertical-align: middle;\n",
       "    }\n",
       "\n",
       "    .dataframe tbody tr th {\n",
       "        vertical-align: top;\n",
       "    }\n",
       "\n",
       "    .dataframe thead th {\n",
       "        text-align: right;\n",
       "    }\n",
       "</style>\n",
       "<table border=\"1\" class=\"dataframe\">\n",
       "  <thead>\n",
       "    <tr style=\"text-align: right;\">\n",
       "      <th></th>\n",
       "      <th>t_stat</th>\n",
       "      <th>p_val</th>\n",
       "      <th>result</th>\n",
       "    </tr>\n",
       "  </thead>\n",
       "  <tbody>\n",
       "    <tr>\n",
       "      <td>lead_time</td>\n",
       "      <td>105.941</td>\n",
       "      <td>0</td>\n",
       "      <td>Dependent (reject H0)</td>\n",
       "    </tr>\n",
       "    <tr>\n",
       "      <td>arrival_date_year</td>\n",
       "      <td>5.76564</td>\n",
       "      <td>8.15497e-09</td>\n",
       "      <td>Dependent (reject H0)</td>\n",
       "    </tr>\n",
       "    <tr>\n",
       "      <td>arrival_date_month</td>\n",
       "      <td>3.80358</td>\n",
       "      <td>0.00014269</td>\n",
       "      <td>Dependent (reject H0)</td>\n",
       "    </tr>\n",
       "    <tr>\n",
       "      <td>arrival_date_week_number</td>\n",
       "      <td>2.81132</td>\n",
       "      <td>0.00493474</td>\n",
       "      <td>Dependent (reject H0)</td>\n",
       "    </tr>\n",
       "    <tr>\n",
       "      <td>arrival_date_day_of_month</td>\n",
       "      <td>-2.11021</td>\n",
       "      <td>0.034842</td>\n",
       "      <td>Dependent (reject H0)</td>\n",
       "    </tr>\n",
       "    <tr>\n",
       "      <td>babies</td>\n",
       "      <td>-11.7794</td>\n",
       "      <td>5.19376e-32</td>\n",
       "      <td>Dependent (reject H0)</td>\n",
       "    </tr>\n",
       "    <tr>\n",
       "      <td>is_repeated_guest</td>\n",
       "      <td>-29.4037</td>\n",
       "      <td>2.34542e-189</td>\n",
       "      <td>Dependent (reject H0)</td>\n",
       "    </tr>\n",
       "    <tr>\n",
       "      <td>previous_cancellations</td>\n",
       "      <td>38.2871</td>\n",
       "      <td>0</td>\n",
       "      <td>Dependent (reject H0)</td>\n",
       "    </tr>\n",
       "    <tr>\n",
       "      <td>previous_bookings_not_canceled</td>\n",
       "      <td>-19.851</td>\n",
       "      <td>1.49641e-87</td>\n",
       "      <td>Dependent (reject H0)</td>\n",
       "    </tr>\n",
       "    <tr>\n",
       "      <td>agent</td>\n",
       "      <td>-16.0903</td>\n",
       "      <td>3.43391e-58</td>\n",
       "      <td>Dependent (reject H0)</td>\n",
       "    </tr>\n",
       "    <tr>\n",
       "      <td>company</td>\n",
       "      <td>-28.7756</td>\n",
       "      <td>1.8168e-181</td>\n",
       "      <td>Dependent (reject H0)</td>\n",
       "    </tr>\n",
       "    <tr>\n",
       "      <td>days_in_waiting_list</td>\n",
       "      <td>18.7506</td>\n",
       "      <td>2.48193e-78</td>\n",
       "      <td>Dependent (reject H0)</td>\n",
       "    </tr>\n",
       "    <tr>\n",
       "      <td>adr</td>\n",
       "      <td>16.4628</td>\n",
       "      <td>7.92512e-61</td>\n",
       "      <td>Dependent (reject H0)</td>\n",
       "    </tr>\n",
       "  </tbody>\n",
       "</table>\n",
       "</div>"
      ],
      "text/plain": [
       "                                 t_stat         p_val                 result\n",
       "lead_time                       105.941             0  Dependent (reject H0)\n",
       "arrival_date_year               5.76564   8.15497e-09  Dependent (reject H0)\n",
       "arrival_date_month              3.80358    0.00014269  Dependent (reject H0)\n",
       "arrival_date_week_number        2.81132    0.00493474  Dependent (reject H0)\n",
       "arrival_date_day_of_month      -2.11021      0.034842  Dependent (reject H0)\n",
       "babies                         -11.7794   5.19376e-32  Dependent (reject H0)\n",
       "is_repeated_guest              -29.4037  2.34542e-189  Dependent (reject H0)\n",
       "previous_cancellations          38.2871             0  Dependent (reject H0)\n",
       "previous_bookings_not_canceled  -19.851   1.49641e-87  Dependent (reject H0)\n",
       "agent                          -16.0903   3.43391e-58  Dependent (reject H0)\n",
       "company                        -28.7756   1.8168e-181  Dependent (reject H0)\n",
       "days_in_waiting_list            18.7506   2.48193e-78  Dependent (reject H0)\n",
       "adr                             16.4628   7.92512e-61  Dependent (reject H0)"
      ]
     },
     "execution_count": 20,
     "metadata": {},
     "output_type": "execute_result"
    }
   ],
   "source": [
    "# List of numerical excluding features with potential for data leakage. \n",
    "num_cols = list(hotels.describe(include=[np.number]).columns.drop(['stays_in_week_nights', 'stays_in_weekend_nights', \n",
    "                                                                   'adults', 'children', 'is_canceled', \n",
    "                                                                   'total_of_special_requests', \n",
    "                                                                   'required_car_parking_spaces', 'booking_changes']))\n",
    "\n",
    "# Creating an empty Dataframe with column names only\n",
    "t_stat_results = pd.DataFrame(columns=['t_stat', 'p_val', 'result'], index = num_cols)\n",
    "\n",
    "for col in num_cols:\n",
    "    res = significance(col)\n",
    "    t_stat_results.loc[col] = [res[0], res[1], res[2]]\n",
    "\n",
    "print(\"Statistical results for all numeric variables:\")\n",
    "t_stat_results"
   ]
  },
  {
   "cell_type": "code",
   "execution_count": 14,
   "metadata": {},
   "outputs": [],
   "source": [
    "t_stat_results.to_csv(r'/Users/mattmerrill/Springboard/Capstone/Predicting_Hotel_Cancellations/Jupyter_Notebooks/data/t_stat_results.csv', index=True)"
   ]
  },
  {
   "cell_type": "markdown",
   "metadata": {},
   "source": [
    "Our findings suggest a large number of significant features to use in our model. However each of the confirmed statistically significant features must be examined to determine if they may cause data leakage. Hotel bookings typically change over time when guests choose to customize their reservation after the booking data. Some of these options affect how their profile is logged, making those customers who followed through with their booking seem more distinct than those who did not. For example, a customer who makes changes leading up to their booking will by far more likely to keep the reservation. Since our goal is to predict the possibility of a canceled booking given only the initial parameters of a booking, we must eliminate many of these sources of data leakage. After examining the data and reading carefully into the source of the data, it was determined that all features that hold the potential for changing over time must be eliminated. This was done prior to the statistical analysis and eliminated the following features:\n",
    "\n",
    "Eliminated sources of data leakage:\n",
    "\n",
    "- Assigned room type\n",
    "- booking changes\n",
    "- deposit type\n",
    "- reservation status\n",
    "- reservation status date\n",
    "- total of special requests\n",
    "- stays in week nights\n",
    "- stays in weekend nights\n",
    "- meal\n",
    "- adults"
   ]
  },
  {
   "cell_type": "code",
   "execution_count": null,
   "metadata": {},
   "outputs": [],
   "source": []
  }
 ],
 "metadata": {
  "kernelspec": {
   "display_name": "Python 3",
   "language": "python",
   "name": "python3"
  },
  "language_info": {
   "codemirror_mode": {
    "name": "ipython",
    "version": 3
   },
   "file_extension": ".py",
   "mimetype": "text/x-python",
   "name": "python",
   "nbconvert_exporter": "python",
   "pygments_lexer": "ipython3",
   "version": "3.7.4"
  }
 },
 "nbformat": 4,
 "nbformat_minor": 2
}
